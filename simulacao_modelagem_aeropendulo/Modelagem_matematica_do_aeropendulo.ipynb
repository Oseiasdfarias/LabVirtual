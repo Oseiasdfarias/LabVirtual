{
 "cells": [
  {
   "attachments": {},
   "cell_type": "markdown",
   "metadata": {},
   "source": [
    "# <center>Modelagem e Simulação do Aeropêndulo<center/>"
   ]
  },
  {
   "attachments": {},
   "cell_type": "markdown",
   "metadata": {},
   "source": [
    "<center>\n",
    "<div class=\"figure\" >\n",
    "  <img src=\"utils/aeropendulo.png\"\n",
    "       width=\"400\"> \n",
    "  <p>Figura 1 - Diagrama esquemático do Aeropêndulo.</p>\n",
    "</div>\n",
    "<center/>"
   ]
  },
  {
   "attachments": {},
   "cell_type": "markdown",
   "metadata": {},
   "source": [
    "Usando as leis de Newton e momentos angulares podemos encontrar o modelo matemático que descreve a dinâmica do aeropêndulo, assim, temos a equação $(1)$ que modela o sistema em questão."
   ]
  },
  {
   "attachments": {},
   "cell_type": "markdown",
   "metadata": {},
   "source": [
    "$$\n",
    "\\begin{align}\n",
    "    T &= J\\ddot{\\theta} + c\\dot{\\theta} +mgd\\sin{\\theta} \\tag{1}\\\\\n",
    "\\end{align}\n",
    "$$"
   ]
  },
  {
   "attachments": {},
   "cell_type": "markdown",
   "metadata": {},
   "source": [
    "Onde:\n",
    "\n",
    ">> + $T$: Empuxo gerado pela hélice;\n",
    ">> + $J$: Momento de inércia;\n",
    ">> + $\\theta$: posição angular do Aeropêndulo;\n",
    ">> + $c$: coeficiente de amortecimento viscoso;\n",
    ">> + $m$: peso do Aeropêndulo;\n",
    ">> + $d$: a distância entre o centro de massa e o ponto de pivô;"
   ]
  },
  {
   "attachments": {},
   "cell_type": "markdown",
   "metadata": {},
   "source": [
    "Linearizando o sistema"
   ]
  },
  {
   "attachments": {},
   "cell_type": "markdown",
   "metadata": {},
   "source": [
    "Uma das técnicas de linearização quando se tem sistemas não lineares que a componente não linear é o seno ou cosseno é  considerar o seno ou cosseno sendo o valor do próprio ângulo, isso funciona bem para pequenas variações em torno do ângulo, aplicando essa técnica ao modelo do aeropêndulo, temos a equação $(2)$.\n",
    "\n",
    "$$\n",
    "\\begin{align}\n",
    "    T &= J\\ddot{\\theta} + c\\dot{\\theta} +mgd\\theta \\tag{2}\\\\\n",
    "\\end{align}\n",
    "$$"
   ]
  },
  {
   "attachments": {},
   "cell_type": "markdown",
   "metadata": {},
   "source": [
    "Aplicando a transformada de Laplace, temos:\n",
    "\n",
    "$$\n",
    "\\begin{align}\n",
    "    T(s) &= s^2J\\theta(s) + sc\\theta(s) +mgd\\theta(s) \\tag{3}\\\\\n",
    "    T(s) &= (s^2J + sc +mgd)\\theta(s) \\tag{4}\\\\\n",
    "    \\frac{\\theta(s)}{T(s)} &= \\frac{1}{s^2J + sc +mgd} \\tag{5}\\\\\n",
    "    \\frac{\\theta(s)}{T(s)} &= \\frac{1/J}{s^2 + sc/J +mgd/J} \\tag{6}\\\\\n",
    "\\end{align}\n",
    "$$"
   ]
  },
  {
   "attachments": {},
   "cell_type": "markdown",
   "metadata": {},
   "source": [
    "Queremos controlar o ângulo do braço do aeropêndulo  a partir da tensão aplicada aos terminais do motor, assim,devemos encontrar uma relação entre a tensão $V$ nos terminais do motor e o empuxo $T$ gerado pela hélice, essa relação é não linear, porém é possível aproximar por uma relação linear, como mostra a expressão $(7)$.\n",
    "\n",
    "$$\n",
    "\\begin{align}\n",
    "    T &\\approx K_mV \\tag{7}\\\\\n",
    "\\end{align}\n",
    "$$\n",
    "\n",
    "Aplicando a transformada de Laplace, temos:\n",
    "\n",
    "$$\n",
    "\\begin{align}\n",
    "    T(s) &\\approx K_mV(s) \\tag{8}\\\\\n",
    "\\end{align}\n",
    "$$"
   ]
  },
  {
   "attachments": {},
   "cell_type": "markdown",
   "metadata": {},
   "source": [
    "Agora podemos substituir $(8)$ em $(6)$,\n",
    "\n",
    "$$\n",
    "\\begin{align}\n",
    "    \\frac{\\theta(s)}{K_mV(s)} &= \\frac{1/J}{s^2 + sc/J +mgd/J} \\tag{9}\\\\\n",
    "    \\frac{\\theta(s)}{V(s)} &= \\frac{K_m/J}{s^2 + sc/J +mgd/J} \\tag{10}\n",
    "\\end{align}\n",
    "$$"
   ]
  },
  {
   "attachments": {},
   "cell_type": "markdown",
   "metadata": {},
   "source": [
    "### Sistema no Espaço de Estados"
   ]
  },
  {
   "attachments": {},
   "cell_type": "markdown",
   "metadata": {},
   "source": [
    "##### Forma Canônica de Controlador"
   ]
  },
  {
   "attachments": {},
   "cell_type": "markdown",
   "metadata": {},
   "source": [
    "$$\n",
    "    x_1=\\theta \\quad x_2=\\dot{\\theta} \\quad x_2 = \\dot{x_1}\n",
    "$$\n",
    "\n",
    "\n",
    "$$\n",
    "\\begin{bmatrix}\n",
    "    \\dot{x}_1 \\\\\n",
    "    \\dot{x}_2\n",
    "\\end{bmatrix}=\n",
    "\\begin{bmatrix}\n",
    "    0             & 1\\\\\n",
    "    -\\frac{mgd}{J} & -\\frac{c}{J}\n",
    "\\end{bmatrix}\\cdot \n",
    "\\begin{bmatrix}\n",
    "    x_1 \\\\\n",
    "    x_2\n",
    "\\end{bmatrix}+\n",
    "\\begin{bmatrix}\n",
    "    0 \\\\\n",
    "    \\frac{K_m}{J}\n",
    "\\end{bmatrix}\\cdot u\n",
    "$$\n",
    "\n",
    "$$\n",
    "Y= \\begin{bmatrix}\n",
    "    1 & 0\n",
    "\\end{bmatrix} \\cdot\n",
    "\\begin{bmatrix}\n",
    "    0 \\\\\n",
    "    \\frac{K_m}{J}\n",
    "\\end{bmatrix} + 0\n",
    "$$"
   ]
  },
  {
   "attachments": {},
   "cell_type": "markdown",
   "metadata": {},
   "source": [
    "#### Parâmetros para Simulação\n",
    "\n",
    "Para simulação foi usado os parâmetros do $artigo[1]$."
   ]
  },
  {
   "attachments": {},
   "cell_type": "markdown",
   "metadata": {},
   "source": [
    "$$\n",
    "\\begin{array}{|c|c|} \\hline\n",
    "\\text { Parâmetros do Aeropêndulo } & \\text{Valores}      \\\\ \\hline\n",
    "K_m     &   0,0296                                        \\\\ \\hline\n",
    "d       &   0,03m                                         \\\\ \\hline\n",
    "J       &   0,0106 Kgm^2                                  \\\\ \\hline\n",
    "m       &   0,36 m                                  \\\\ \\hline\n",
    "g       &   9,8 m/s^2                                     \\\\ \\hline\n",
    "c       &   0,0076 Nms/rad                                \\\\ \\hline\n",
    "\\end{array}\n",
    "$$"
   ]
  },
  {
   "attachments": {},
   "cell_type": "markdown",
   "metadata": {},
   "source": [
    "### Simulação usando Python"
   ]
  },
  {
   "cell_type": "code",
   "execution_count": 50,
   "metadata": {},
   "outputs": [],
   "source": [
    "import numpy as np\n",
    "import matplotlib.pyplot as plt\n",
    "import control as ct\n",
    "\n",
    "plt.style.use(\"ggplot\")\n",
    "\n",
    "%config InlineBackend.figure_format = \"svg\""
   ]
  },
  {
   "attachments": {},
   "cell_type": "markdown",
   "metadata": {},
   "source": [
    "Parâmetros"
   ]
  },
  {
   "cell_type": "code",
   "execution_count": 51,
   "metadata": {},
   "outputs": [],
   "source": [
    "K_m = 0.0296\n",
    "m = 0.36\n",
    "d = 0.03\n",
    "J = 0.0106\n",
    "g = 9.8\n",
    "c = 0.0076"
   ]
  },
  {
   "attachments": {},
   "cell_type": "markdown",
   "metadata": {},
   "source": [
    "Matrizes do sistema no espaço de estados"
   ]
  },
  {
   "cell_type": "code",
   "execution_count": 52,
   "metadata": {},
   "outputs": [],
   "source": [
    "A = np.array([[0, 1],\n",
    "              [-(m*g*d)/J, -(c/J)]])\n",
    "\n",
    "B = np.array([[0, K_m/J]]).T\n",
    "\n",
    "C = np.array([1, 0])\n",
    "\n",
    "D = 0\n"
   ]
  },
  {
   "attachments": {},
   "cell_type": "markdown",
   "metadata": {},
   "source": [
    "### Sistema no Espaço de Estados"
   ]
  },
  {
   "cell_type": "code",
   "execution_count": 53,
   "metadata": {},
   "outputs": [
    {
     "name": "stdout",
     "output_type": "stream",
     "text": [
      "<LinearIOSystem>: sys[126]\n",
      "Inputs (1): ['u[0]']\n",
      "Outputs (1): ['y[0]']\n",
      "States (2): ['x[0]', 'x[1]']\n",
      "\n",
      "A = [[ 0.          1.        ]\n",
      "     [-9.98490566 -0.71698113]]\n",
      "\n",
      "B = [[0.        ]\n",
      "     [2.79245283]]\n",
      "\n",
      "C = [[1. 0.]]\n",
      "\n",
      "D = [[0.]]\n",
      "\n"
     ]
    }
   ],
   "source": [
    "sys = ct.ss(A, B, C, D)\n",
    "print(sys)"
   ]
  },
  {
   "cell_type": "markdown",
   "metadata": {},
   "source": [
    "Função de Transferência a partir do espaço de estados"
   ]
  },
  {
   "cell_type": "code",
   "execution_count": 54,
   "metadata": {},
   "outputs": [
    {
     "data": {
      "text/latex": [
       "$$\\frac{2.792}{s^2 + 0.717 s + 9.985}$$"
      ],
      "text/plain": [
       "TransferFunction(array([2.79245283]), array([1.        , 0.71698113, 9.98490566]))"
      ]
     },
     "execution_count": 54,
     "metadata": {},
     "output_type": "execute_result"
    }
   ],
   "source": [
    "Gs = ct.ss2tf(sys)\n",
    "Gs"
   ]
  },
  {
   "attachments": {},
   "cell_type": "markdown",
   "metadata": {},
   "source": [
    "Informações do sistema em malha aberta"
   ]
  },
  {
   "cell_type": "code",
   "execution_count": 55,
   "metadata": {},
   "outputs": [
    {
     "data": {
      "text/plain": [
       "{'RiseTime': 0.396481513738416,\n",
       " 'SettlingTime': 10.308519357198815,\n",
       " 'SettlingMin': 0.14343794449344063,\n",
       " 'SettlingMax': 0.47415111647086844,\n",
       " 'Overshoot': 69.54106137593485,\n",
       " 'Undershoot': 0,\n",
       " 'Peak': 0.47415111647086844,\n",
       " 'PeakTime': 1.0308519357198815,\n",
       " 'SteadyStateValue': 0.2796674225245654}"
      ]
     },
     "execution_count": 55,
     "metadata": {},
     "output_type": "execute_result"
    }
   ],
   "source": [
    "ct.step_info(sys)"
   ]
  },
  {
   "cell_type": "code",
   "execution_count": 56,
   "metadata": {},
   "outputs": [
    {
     "name": "stdout",
     "output_type": "stream",
     "text": [
      "_____Eigenvalue______ Damping___ Frequency_\n",
      "   -0.3585    +3.139j     0.1135       3.16\n",
      "   -0.3585    -3.139j     0.1135       3.16\n"
     ]
    }
   ],
   "source": [
    "ct.damp(sys);"
   ]
  },
  {
   "cell_type": "code",
   "execution_count": 57,
   "metadata": {},
   "outputs": [
    {
     "data": {
      "text/plain": [
       "array([-0.35849057+3.13948884j, -0.35849057-3.13948884j])"
      ]
     },
     "execution_count": 57,
     "metadata": {},
     "output_type": "execute_result"
    }
   ],
   "source": [
    "ct.poles(sys)"
   ]
  },
  {
   "cell_type": "code",
   "execution_count": 58,
   "metadata": {},
   "outputs": [
    {
     "data": {
      "text/plain": [
       "array([], dtype=float64)"
      ]
     },
     "execution_count": 58,
     "metadata": {},
     "output_type": "execute_result"
    }
   ],
   "source": [
    "ct.zeros(sys)"
   ]
  },
  {
   "attachments": {},
   "cell_type": "markdown",
   "metadata": {},
   "source": [
    "Resposta ao Degrau Unitário"
   ]
  },
  {
   "cell_type": "code",
   "execution_count": 59,
   "metadata": {},
   "outputs": [
    {
     "data": {
      "image/svg+xml": "<?xml version=\"1.0\" encoding=\"utf-8\" standalone=\"no\"?>\n<!DOCTYPE svg PUBLIC \"-//W3C//DTD SVG 1.1//EN\"\n  \"http://www.w3.org/Graphics/SVG/1.1/DTD/svg11.dtd\">\n<svg xmlns:xlink=\"http://www.w3.org/1999/xlink\" width=\"323.034085pt\" height=\"215.4825pt\" viewBox=\"0 0 323.034085 215.4825\" xmlns=\"http://www.w3.org/2000/svg\" version=\"1.1\">\n <metadata>\n  <rdf:RDF xmlns:dc=\"http://purl.org/dc/elements/1.1/\" xmlns:cc=\"http://creativecommons.org/ns#\" xmlns:rdf=\"http://www.w3.org/1999/02/22-rdf-syntax-ns#\">\n   <cc:Work>\n    <dc:type rdf:resource=\"http://purl.org/dc/dcmitype/StillImage\"/>\n    <dc:date>2023-03-14T20:23:25.359777</dc:date>\n    <dc:format>image/svg+xml</dc:format>\n    <dc:creator>\n     <cc:Agent>\n      <dc:title>Matplotlib v3.7.1, https://matplotlib.org/</dc:title>\n     </cc:Agent>\n    </dc:creator>\n   </cc:Work>\n  </rdf:RDF>\n </metadata>\n <defs>\n  <style type=\"text/css\">*{stroke-linejoin: round; stroke-linecap: butt}</style>\n </defs>\n <g id=\"figure_1\">\n  <g id=\"patch_1\">\n   <path d=\"M 0 215.4825 \nL 323.034085 215.4825 \nL 323.034085 0 \nL 0 0 \nz\n\" style=\"fill: #ffffff\"/>\n  </g>\n  <g id=\"axes_1\">\n   <g id=\"patch_2\">\n    <path d=\"M 33.0825 186.799687 \nL 312.0825 186.799687 \nL 312.0825 20.479687 \nL 33.0825 20.479687 \nz\n\" style=\"fill: #e5e5e5\"/>\n   </g>\n   <g id=\"matplotlib.axis_1\">\n    <g id=\"xtick_1\">\n     <g id=\"line2d_1\">\n      <path d=\"M 45.764318 186.799687 \nL 45.764318 20.479687 \n\" clip-path=\"url(#p2c4f135f0a)\" style=\"fill: none; stroke: #ffffff; stroke-width: 0.8; stroke-linecap: round\"/>\n     </g>\n     <g id=\"line2d_2\"/>\n     <g id=\"text_1\">\n      <!-- 0.0 -->\n      <g style=\"fill: #555555\" transform=\"translate(40.899318 195.3725) scale(0.07 -0.07)\">\n       <defs>\n        <path id=\"LiberationSans-30\" d=\"M 3309 2203 \nQ 3309 1569 3189 1136 \nQ 3069 703 2861 436 \nQ 2653 169 2372 53 \nQ 2091 -63 1772 -63 \nQ 1450 -63 1172 53 \nQ 894 169 689 434 \nQ 484 700 367 1133 \nQ 250 1566 250 2203 \nQ 250 2869 367 3305 \nQ 484 3741 690 4000 \nQ 897 4259 1178 4364 \nQ 1459 4469 1791 4469 \nQ 2106 4469 2382 4364 \nQ 2659 4259 2865 4000 \nQ 3072 3741 3190 3305 \nQ 3309 2869 3309 2203 \nz\nM 2738 2203 \nQ 2738 2728 2675 3076 \nQ 2613 3425 2491 3633 \nQ 2369 3841 2192 3927 \nQ 2016 4013 1791 4013 \nQ 1553 4013 1372 3925 \nQ 1191 3838 1067 3630 \nQ 944 3422 881 3073 \nQ 819 2725 819 2203 \nQ 819 1697 883 1350 \nQ 947 1003 1070 792 \nQ 1194 581 1372 489 \nQ 1550 397 1778 397 \nQ 2000 397 2178 489 \nQ 2356 581 2479 792 \nQ 2603 1003 2670 1350 \nQ 2738 1697 2738 2203 \nz\n\" transform=\"scale(0.015625)\"/>\n        <path id=\"LiberationSans-2e\" d=\"M 584 0 \nL 584 684 \nL 1194 684 \nL 1194 0 \nL 584 0 \nz\n\" transform=\"scale(0.015625)\"/>\n       </defs>\n       <use xlink:href=\"#LiberationSans-30\"/>\n       <use xlink:href=\"#LiberationSans-2e\" x=\"55.615234\"/>\n       <use xlink:href=\"#LiberationSans-30\" x=\"83.398438\"/>\n      </g>\n     </g>\n    </g>\n    <g id=\"xtick_2\">\n     <g id=\"line2d_3\">\n      <path d=\"M 78.671623 186.799687 \nL 78.671623 20.479687 \n\" clip-path=\"url(#p2c4f135f0a)\" style=\"fill: none; stroke: #ffffff; stroke-width: 0.8; stroke-linecap: round\"/>\n     </g>\n     <g id=\"line2d_4\"/>\n     <g id=\"text_2\">\n      <!-- 2.5 -->\n      <g style=\"fill: #555555\" transform=\"translate(73.806623 195.3725) scale(0.07 -0.07)\">\n       <defs>\n        <path id=\"LiberationSans-32\" d=\"M 322 0 \nL 322 397 \nQ 481 763 711 1042 \nQ 941 1322 1194 1548 \nQ 1447 1775 1695 1969 \nQ 1944 2163 2144 2356 \nQ 2344 2550 2467 2762 \nQ 2591 2975 2591 3244 \nQ 2591 3431 2534 3573 \nQ 2478 3716 2372 3812 \nQ 2266 3909 2117 3957 \nQ 1969 4006 1788 4006 \nQ 1619 4006 1470 3959 \nQ 1322 3913 1206 3819 \nQ 1091 3725 1017 3586 \nQ 944 3447 922 3263 \nL 347 3316 \nQ 375 3553 478 3762 \nQ 581 3972 762 4130 \nQ 944 4288 1198 4378 \nQ 1453 4469 1788 4469 \nQ 2116 4469 2372 4391 \nQ 2628 4313 2804 4159 \nQ 2981 4006 3075 3781 \nQ 3169 3556 3169 3263 \nQ 3169 3041 3089 2841 \nQ 3009 2641 2876 2459 \nQ 2744 2278 2569 2109 \nQ 2394 1941 2203 1780 \nQ 2013 1619 1819 1461 \nQ 1625 1303 1454 1143 \nQ 1284 984 1150 820 \nQ 1016 656 941 478 \nL 3238 478 \nL 3238 0 \nL 322 0 \nz\n\" transform=\"scale(0.015625)\"/>\n        <path id=\"LiberationSans-35\" d=\"M 3291 1434 \nQ 3291 1103 3191 828 \nQ 3091 553 2894 354 \nQ 2697 156 2405 46 \nQ 2113 -63 1728 -63 \nQ 1381 -63 1123 18 \nQ 866 100 687 242 \nQ 509 384 404 575 \nQ 300 766 256 984 \nL 825 1050 \nQ 859 925 921 808 \nQ 984 691 1092 598 \nQ 1200 506 1358 451 \nQ 1516 397 1741 397 \nQ 1959 397 2137 464 \nQ 2316 531 2442 662 \nQ 2569 794 2637 984 \nQ 2706 1175 2706 1422 \nQ 2706 1625 2640 1795 \nQ 2575 1966 2453 2089 \nQ 2331 2213 2154 2281 \nQ 1978 2350 1753 2350 \nQ 1613 2350 1494 2325 \nQ 1375 2300 1273 2256 \nQ 1172 2213 1089 2155 \nQ 1006 2097 934 2034 \nL 384 2034 \nL 531 4403 \nL 3034 4403 \nL 3034 3925 \nL 1044 3925 \nL 959 2528 \nQ 1109 2644 1334 2726 \nQ 1559 2809 1869 2809 \nQ 2197 2809 2459 2709 \nQ 2722 2609 2906 2426 \nQ 3091 2244 3191 1991 \nQ 3291 1738 3291 1434 \nz\n\" transform=\"scale(0.015625)\"/>\n       </defs>\n       <use xlink:href=\"#LiberationSans-32\"/>\n       <use xlink:href=\"#LiberationSans-2e\" x=\"55.615234\"/>\n       <use xlink:href=\"#LiberationSans-35\" x=\"83.398438\"/>\n      </g>\n     </g>\n    </g>\n    <g id=\"xtick_3\">\n     <g id=\"line2d_5\">\n      <path d=\"M 111.578928 186.799687 \nL 111.578928 20.479687 \n\" clip-path=\"url(#p2c4f135f0a)\" style=\"fill: none; stroke: #ffffff; stroke-width: 0.8; stroke-linecap: round\"/>\n     </g>\n     <g id=\"line2d_6\"/>\n     <g id=\"text_3\">\n      <!-- 5.0 -->\n      <g style=\"fill: #555555\" transform=\"translate(106.713928 195.3725) scale(0.07 -0.07)\">\n       <use xlink:href=\"#LiberationSans-35\"/>\n       <use xlink:href=\"#LiberationSans-2e\" x=\"55.615234\"/>\n       <use xlink:href=\"#LiberationSans-30\" x=\"83.398438\"/>\n      </g>\n     </g>\n    </g>\n    <g id=\"xtick_4\">\n     <g id=\"line2d_7\">\n      <path d=\"M 144.486233 186.799687 \nL 144.486233 20.479687 \n\" clip-path=\"url(#p2c4f135f0a)\" style=\"fill: none; stroke: #ffffff; stroke-width: 0.8; stroke-linecap: round\"/>\n     </g>\n     <g id=\"line2d_8\"/>\n     <g id=\"text_4\">\n      <!-- 7.5 -->\n      <g style=\"fill: #555555\" transform=\"translate(139.621233 195.3725) scale(0.07 -0.07)\">\n       <defs>\n        <path id=\"LiberationSans-37\" d=\"M 3238 3947 \nQ 2906 3441 2628 2973 \nQ 2350 2506 2150 2032 \nQ 1950 1559 1839 1061 \nQ 1728 563 1728 0 \nL 1141 0 \nQ 1141 528 1266 1036 \nQ 1391 1544 1603 2033 \nQ 1816 2522 2097 2994 \nQ 2378 3466 2694 3925 \nL 328 3925 \nL 328 4403 \nL 3238 4403 \nL 3238 3947 \nz\n\" transform=\"scale(0.015625)\"/>\n       </defs>\n       <use xlink:href=\"#LiberationSans-37\"/>\n       <use xlink:href=\"#LiberationSans-2e\" x=\"55.615234\"/>\n       <use xlink:href=\"#LiberationSans-35\" x=\"83.398438\"/>\n      </g>\n     </g>\n    </g>\n    <g id=\"xtick_5\">\n     <g id=\"line2d_9\">\n      <path d=\"M 177.393538 186.799687 \nL 177.393538 20.479687 \n\" clip-path=\"url(#p2c4f135f0a)\" style=\"fill: none; stroke: #ffffff; stroke-width: 0.8; stroke-linecap: round\"/>\n     </g>\n     <g id=\"line2d_10\"/>\n     <g id=\"text_5\">\n      <!-- 10.0 -->\n      <g style=\"fill: #555555\" transform=\"translate(170.58221 195.3725) scale(0.07 -0.07)\">\n       <defs>\n        <path id=\"LiberationSans-31\" d=\"M 488 0 \nL 488 478 \nL 1609 478 \nL 1609 3866 \nL 616 3156 \nL 616 3688 \nL 1656 4403 \nL 2175 4403 \nL 2175 478 \nL 3247 478 \nL 3247 0 \nL 488 0 \nz\n\" transform=\"scale(0.015625)\"/>\n       </defs>\n       <use xlink:href=\"#LiberationSans-31\"/>\n       <use xlink:href=\"#LiberationSans-30\" x=\"55.615234\"/>\n       <use xlink:href=\"#LiberationSans-2e\" x=\"111.230469\"/>\n       <use xlink:href=\"#LiberationSans-30\" x=\"139.013672\"/>\n      </g>\n     </g>\n    </g>\n    <g id=\"xtick_6\">\n     <g id=\"line2d_11\">\n      <path d=\"M 210.300843 186.799687 \nL 210.300843 20.479687 \n\" clip-path=\"url(#p2c4f135f0a)\" style=\"fill: none; stroke: #ffffff; stroke-width: 0.8; stroke-linecap: round\"/>\n     </g>\n     <g id=\"line2d_12\"/>\n     <g id=\"text_6\">\n      <!-- 12.5 -->\n      <g style=\"fill: #555555\" transform=\"translate(203.489514 195.3725) scale(0.07 -0.07)\">\n       <use xlink:href=\"#LiberationSans-31\"/>\n       <use xlink:href=\"#LiberationSans-32\" x=\"55.615234\"/>\n       <use xlink:href=\"#LiberationSans-2e\" x=\"111.230469\"/>\n       <use xlink:href=\"#LiberationSans-35\" x=\"139.013672\"/>\n      </g>\n     </g>\n    </g>\n    <g id=\"xtick_7\">\n     <g id=\"line2d_13\">\n      <path d=\"M 243.208147 186.799687 \nL 243.208147 20.479687 \n\" clip-path=\"url(#p2c4f135f0a)\" style=\"fill: none; stroke: #ffffff; stroke-width: 0.8; stroke-linecap: round\"/>\n     </g>\n     <g id=\"line2d_14\"/>\n     <g id=\"text_7\">\n      <!-- 15.0 -->\n      <g style=\"fill: #555555\" transform=\"translate(236.396819 195.3725) scale(0.07 -0.07)\">\n       <use xlink:href=\"#LiberationSans-31\"/>\n       <use xlink:href=\"#LiberationSans-35\" x=\"55.615234\"/>\n       <use xlink:href=\"#LiberationSans-2e\" x=\"111.230469\"/>\n       <use xlink:href=\"#LiberationSans-30\" x=\"139.013672\"/>\n      </g>\n     </g>\n    </g>\n    <g id=\"xtick_8\">\n     <g id=\"line2d_15\">\n      <path d=\"M 276.115452 186.799687 \nL 276.115452 20.479687 \n\" clip-path=\"url(#p2c4f135f0a)\" style=\"fill: none; stroke: #ffffff; stroke-width: 0.8; stroke-linecap: round\"/>\n     </g>\n     <g id=\"line2d_16\"/>\n     <g id=\"text_8\">\n      <!-- 17.5 -->\n      <g style=\"fill: #555555\" transform=\"translate(269.304124 195.3725) scale(0.07 -0.07)\">\n       <use xlink:href=\"#LiberationSans-31\"/>\n       <use xlink:href=\"#LiberationSans-37\" x=\"55.615234\"/>\n       <use xlink:href=\"#LiberationSans-2e\" x=\"111.230469\"/>\n       <use xlink:href=\"#LiberationSans-35\" x=\"139.013672\"/>\n      </g>\n     </g>\n    </g>\n    <g id=\"xtick_9\">\n     <g id=\"line2d_17\">\n      <path d=\"M 309.022757 186.799687 \nL 309.022757 20.479687 \n\" clip-path=\"url(#p2c4f135f0a)\" style=\"fill: none; stroke: #ffffff; stroke-width: 0.8; stroke-linecap: round\"/>\n     </g>\n     <g id=\"line2d_18\"/>\n     <g id=\"text_9\">\n      <!-- 20.0 -->\n      <g style=\"fill: #555555\" transform=\"translate(302.211429 195.3725) scale(0.07 -0.07)\">\n       <use xlink:href=\"#LiberationSans-32\"/>\n       <use xlink:href=\"#LiberationSans-30\" x=\"55.615234\"/>\n       <use xlink:href=\"#LiberationSans-2e\" x=\"111.230469\"/>\n       <use xlink:href=\"#LiberationSans-30\" x=\"139.013672\"/>\n      </g>\n     </g>\n    </g>\n    <g id=\"text_10\">\n     <!-- Tempo (s) -->\n     <g style=\"fill: #555555\" transform=\"translate(154.804375 206.6225) scale(0.08 -0.08)\">\n      <defs>\n       <path id=\"LiberationSans-54\" d=\"M 2250 3916 \nL 2250 0 \nL 1656 0 \nL 1656 3916 \nL 144 3916 \nL 144 4403 \nL 3763 4403 \nL 3763 3916 \nL 2250 3916 \nz\n\" transform=\"scale(0.015625)\"/>\n       <path id=\"LiberationSans-65\" d=\"M 863 1572 \nQ 863 1306 917 1082 \nQ 972 859 1086 698 \nQ 1200 538 1378 448 \nQ 1556 359 1806 359 \nQ 2172 359 2392 506 \nQ 2613 653 2691 878 \nL 3184 738 \nQ 3131 597 3036 455 \nQ 2941 313 2781 198 \nQ 2622 84 2383 10 \nQ 2144 -63 1806 -63 \nQ 1056 -63 664 384 \nQ 272 831 272 1713 \nQ 272 2188 390 2517 \nQ 509 2847 715 3053 \nQ 922 3259 1197 3351 \nQ 1472 3444 1784 3444 \nQ 2209 3444 2495 3306 \nQ 2781 3169 2954 2926 \nQ 3128 2684 3201 2356 \nQ 3275 2028 3275 1647 \nL 3275 1572 \nL 863 1572 \nz\nM 2694 2003 \nQ 2647 2538 2422 2783 \nQ 2197 3028 1775 3028 \nQ 1634 3028 1479 2983 \nQ 1325 2938 1194 2822 \nQ 1063 2706 972 2507 \nQ 881 2309 869 2003 \nL 2694 2003 \nz\n\" transform=\"scale(0.015625)\"/>\n       <path id=\"LiberationSans-6d\" d=\"M 2400 0 \nL 2400 2144 \nQ 2400 2391 2369 2556 \nQ 2338 2722 2264 2823 \nQ 2191 2925 2072 2967 \nQ 1953 3009 1781 3009 \nQ 1603 3009 1459 2939 \nQ 1316 2869 1214 2736 \nQ 1113 2603 1058 2408 \nQ 1003 2213 1003 1959 \nL 1003 0 \nL 444 0 \nL 444 2659 \nQ 444 2766 442 2883 \nQ 441 3000 437 3104 \nQ 434 3209 431 3284 \nQ 428 3359 425 3381 \nL 956 3381 \nQ 959 3366 962 3297 \nQ 966 3228 970 3139 \nQ 975 3050 978 2958 \nQ 981 2866 981 2803 \nL 991 2803 \nQ 1066 2950 1153 3069 \nQ 1241 3188 1358 3270 \nQ 1475 3353 1626 3398 \nQ 1778 3444 1978 3444 \nQ 2363 3444 2586 3291 \nQ 2809 3138 2897 2803 \nL 2906 2803 \nQ 2981 2950 3075 3069 \nQ 3169 3188 3294 3270 \nQ 3419 3353 3575 3398 \nQ 3731 3444 3931 3444 \nQ 4188 3444 4373 3375 \nQ 4559 3306 4678 3162 \nQ 4797 3019 4853 2792 \nQ 4909 2566 4909 2253 \nL 4909 0 \nL 4353 0 \nL 4353 2144 \nQ 4353 2391 4322 2556 \nQ 4291 2722 4217 2823 \nQ 4144 2925 4025 2967 \nQ 3906 3009 3734 3009 \nQ 3556 3009 3412 2942 \nQ 3269 2875 3167 2744 \nQ 3066 2613 3011 2416 \nQ 2956 2219 2956 1959 \nL 2956 0 \nL 2400 0 \nz\n\" transform=\"scale(0.015625)\"/>\n       <path id=\"LiberationSans-70\" d=\"M 3291 1706 \nQ 3291 1322 3228 997 \nQ 3166 672 3020 437 \nQ 2875 203 2636 70 \nQ 2397 -63 2047 -63 \nQ 1684 -63 1412 75 \nQ 1141 213 997 525 \nL 981 525 \nQ 984 519 986 469 \nQ 988 419 989 344 \nQ 991 269 992 176 \nQ 994 84 994 -6 \nL 994 -1328 \nL 431 -1328 \nL 431 2691 \nQ 431 2813 429 2925 \nQ 428 3038 425 3130 \nQ 422 3222 419 3287 \nQ 416 3353 413 3381 \nL 956 3381 \nQ 959 3372 964 3315 \nQ 969 3259 973 3179 \nQ 978 3100 983 3009 \nQ 988 2919 988 2838 \nL 1000 2838 \nQ 1078 3000 1178 3114 \nQ 1278 3228 1406 3301 \nQ 1534 3375 1692 3408 \nQ 1850 3441 2047 3441 \nQ 2397 3441 2636 3316 \nQ 2875 3191 3020 2964 \nQ 3166 2738 3228 2417 \nQ 3291 2097 3291 1706 \nz\nM 2700 1694 \nQ 2700 2006 2662 2250 \nQ 2625 2494 2533 2662 \nQ 2441 2831 2287 2918 \nQ 2134 3006 1903 3006 \nQ 1716 3006 1550 2953 \nQ 1384 2900 1261 2750 \nQ 1138 2600 1066 2336 \nQ 994 2072 994 1650 \nQ 994 1291 1053 1042 \nQ 1113 794 1227 641 \nQ 1341 488 1509 420 \nQ 1678 353 1897 353 \nQ 2131 353 2286 443 \nQ 2441 534 2533 706 \nQ 2625 878 2662 1126 \nQ 2700 1375 2700 1694 \nz\n\" transform=\"scale(0.015625)\"/>\n       <path id=\"LiberationSans-6f\" d=\"M 3291 1694 \nQ 3291 806 2900 371 \nQ 2509 -63 1766 -63 \nQ 1413 -63 1134 43 \nQ 856 150 664 369 \nQ 472 588 370 917 \nQ 269 1247 269 1694 \nQ 269 3444 1784 3444 \nQ 2178 3444 2464 3334 \nQ 2750 3225 2933 3006 \nQ 3116 2788 3203 2459 \nQ 3291 2131 3291 1694 \nz\nM 2700 1694 \nQ 2700 2088 2639 2344 \nQ 2578 2600 2461 2753 \nQ 2344 2906 2175 2967 \nQ 2006 3028 1794 3028 \nQ 1578 3028 1404 2964 \nQ 1231 2900 1109 2745 \nQ 988 2591 923 2334 \nQ 859 2078 859 1694 \nQ 859 1300 928 1042 \nQ 997 784 1117 631 \nQ 1238 478 1402 415 \nQ 1566 353 1759 353 \nQ 1975 353 2150 414 \nQ 2325 475 2447 628 \nQ 2569 781 2634 1040 \nQ 2700 1300 2700 1694 \nz\n\" transform=\"scale(0.015625)\"/>\n       <path id=\"LiberationSans-20\" transform=\"scale(0.015625)\"/>\n       <path id=\"LiberationSans-28\" d=\"M 397 1663 \nQ 397 2097 462 2494 \nQ 528 2891 668 3256 \nQ 809 3622 1028 3965 \nQ 1247 4309 1550 4638 \nL 2094 4638 \nQ 1800 4309 1586 3964 \nQ 1372 3619 1234 3251 \nQ 1097 2884 1030 2487 \nQ 963 2091 963 1656 \nQ 963 1222 1030 825 \nQ 1097 428 1234 59 \nQ 1372 -309 1586 -653 \nQ 1800 -997 2094 -1325 \nL 1550 -1325 \nQ 1247 -997 1028 -653 \nQ 809 -309 668 56 \nQ 528 422 462 817 \nQ 397 1213 397 1650 \nL 397 1663 \nz\n\" transform=\"scale(0.015625)\"/>\n       <path id=\"LiberationSans-73\" d=\"M 2969 934 \nQ 2969 697 2876 511 \nQ 2784 325 2609 198 \nQ 2434 72 2179 4 \nQ 1925 -63 1597 -63 \nQ 1303 -63 1067 -17 \nQ 831 28 653 128 \nQ 475 228 354 392 \nQ 234 556 178 794 \nL 675 891 \nQ 747 619 972 492 \nQ 1197 366 1597 366 \nQ 1778 366 1929 391 \nQ 2081 416 2190 477 \nQ 2300 538 2361 639 \nQ 2422 741 2422 891 \nQ 2422 1044 2350 1142 \nQ 2278 1241 2150 1306 \nQ 2022 1372 1839 1420 \nQ 1656 1469 1438 1528 \nQ 1234 1581 1034 1647 \nQ 834 1713 673 1820 \nQ 513 1928 413 2087 \nQ 313 2247 313 2488 \nQ 313 2950 642 3192 \nQ 972 3434 1603 3434 \nQ 2163 3434 2492 3237 \nQ 2822 3041 2909 2606 \nL 2403 2544 \nQ 2375 2675 2300 2764 \nQ 2225 2853 2119 2908 \nQ 2013 2963 1880 2986 \nQ 1747 3009 1603 3009 \nQ 1222 3009 1040 2893 \nQ 859 2778 859 2544 \nQ 859 2406 926 2317 \nQ 994 2228 1114 2167 \nQ 1234 2106 1403 2061 \nQ 1572 2016 1775 1966 \nQ 1909 1931 2050 1892 \nQ 2191 1853 2323 1798 \nQ 2456 1744 2573 1670 \nQ 2691 1597 2778 1494 \nQ 2866 1391 2917 1253 \nQ 2969 1116 2969 934 \nz\n\" transform=\"scale(0.015625)\"/>\n       <path id=\"LiberationSans-29\" d=\"M 1734 1650 \nQ 1734 1213 1668 817 \nQ 1603 422 1462 56 \nQ 1322 -309 1103 -653 \nQ 884 -997 581 -1325 \nL 38 -1325 \nQ 331 -997 545 -653 \nQ 759 -309 896 59 \nQ 1034 428 1101 825 \nQ 1169 1222 1169 1656 \nQ 1169 2091 1101 2487 \nQ 1034 2884 896 3251 \nQ 759 3619 545 3964 \nQ 331 4309 38 4638 \nL 581 4638 \nQ 884 4309 1103 3965 \nQ 1322 3622 1462 3256 \nQ 1603 2891 1668 2494 \nQ 1734 2097 1734 1663 \nL 1734 1650 \nz\n\" transform=\"scale(0.015625)\"/>\n      </defs>\n      <use xlink:href=\"#LiberationSans-54\"/>\n      <use xlink:href=\"#LiberationSans-65\" x=\"49.958984\"/>\n      <use xlink:href=\"#LiberationSans-6d\" x=\"105.574219\"/>\n      <use xlink:href=\"#LiberationSans-70\" x=\"188.875\"/>\n      <use xlink:href=\"#LiberationSans-6f\" x=\"244.490234\"/>\n      <use xlink:href=\"#LiberationSans-20\" x=\"300.105469\"/>\n      <use xlink:href=\"#LiberationSans-28\" x=\"327.888672\"/>\n      <use xlink:href=\"#LiberationSans-73\" x=\"361.189453\"/>\n      <use xlink:href=\"#LiberationSans-29\" x=\"411.189453\"/>\n     </g>\n    </g>\n   </g>\n   <g id=\"matplotlib.axis_2\">\n    <g id=\"ytick_1\">\n     <g id=\"line2d_19\">\n      <path d=\"M 33.0825 179.239687 \nL 312.0825 179.239687 \n\" clip-path=\"url(#p2c4f135f0a)\" style=\"fill: none; stroke: #ffffff; stroke-width: 0.8; stroke-linecap: round\"/>\n     </g>\n     <g id=\"line2d_20\"/>\n     <g id=\"text_11\">\n      <!-- 0.0 -->\n      <g style=\"fill: #555555\" transform=\"translate(19.8525 181.776094) scale(0.07 -0.07)\">\n       <use xlink:href=\"#LiberationSans-30\"/>\n       <use xlink:href=\"#LiberationSans-2e\" x=\"55.615234\"/>\n       <use xlink:href=\"#LiberationSans-30\" x=\"83.398438\"/>\n      </g>\n     </g>\n    </g>\n    <g id=\"ytick_2\">\n     <g id=\"line2d_21\">\n      <path d=\"M 33.0825 148.999687 \nL 312.0825 148.999687 \n\" clip-path=\"url(#p2c4f135f0a)\" style=\"fill: none; stroke: #ffffff; stroke-width: 0.8; stroke-linecap: round\"/>\n     </g>\n     <g id=\"line2d_22\"/>\n     <g id=\"text_12\">\n      <!-- 0.2 -->\n      <g style=\"fill: #555555\" transform=\"translate(19.8525 151.536094) scale(0.07 -0.07)\">\n       <use xlink:href=\"#LiberationSans-30\"/>\n       <use xlink:href=\"#LiberationSans-2e\" x=\"55.615234\"/>\n       <use xlink:href=\"#LiberationSans-32\" x=\"83.398438\"/>\n      </g>\n     </g>\n    </g>\n    <g id=\"ytick_3\">\n     <g id=\"line2d_23\">\n      <path d=\"M 33.0825 118.759687 \nL 312.0825 118.759687 \n\" clip-path=\"url(#p2c4f135f0a)\" style=\"fill: none; stroke: #ffffff; stroke-width: 0.8; stroke-linecap: round\"/>\n     </g>\n     <g id=\"line2d_24\"/>\n     <g id=\"text_13\">\n      <!-- 0.4 -->\n      <g style=\"fill: #555555\" transform=\"translate(19.8525 121.296094) scale(0.07 -0.07)\">\n       <defs>\n        <path id=\"LiberationSans-34\" d=\"M 2753 997 \nL 2753 0 \nL 2222 0 \nL 2222 997 \nL 147 997 \nL 147 1434 \nL 2163 4403 \nL 2753 4403 \nL 2753 1441 \nL 3372 1441 \nL 3372 997 \nL 2753 997 \nz\nM 2222 3769 \nQ 2216 3753 2191 3708 \nQ 2166 3663 2134 3606 \nQ 2103 3550 2070 3492 \nQ 2038 3434 2013 3397 \nL 884 1734 \nQ 869 1709 839 1668 \nQ 809 1628 778 1586 \nQ 747 1544 715 1503 \nQ 684 1463 666 1441 \nL 2222 1441 \nL 2222 3769 \nz\n\" transform=\"scale(0.015625)\"/>\n       </defs>\n       <use xlink:href=\"#LiberationSans-30\"/>\n       <use xlink:href=\"#LiberationSans-2e\" x=\"55.615234\"/>\n       <use xlink:href=\"#LiberationSans-34\" x=\"83.398438\"/>\n      </g>\n     </g>\n    </g>\n    <g id=\"ytick_4\">\n     <g id=\"line2d_25\">\n      <path d=\"M 33.0825 88.519687 \nL 312.0825 88.519687 \n\" clip-path=\"url(#p2c4f135f0a)\" style=\"fill: none; stroke: #ffffff; stroke-width: 0.8; stroke-linecap: round\"/>\n     </g>\n     <g id=\"line2d_26\"/>\n     <g id=\"text_14\">\n      <!-- 0.6 -->\n      <g style=\"fill: #555555\" transform=\"translate(19.8525 91.056094) scale(0.07 -0.07)\">\n       <defs>\n        <path id=\"LiberationSans-36\" d=\"M 3278 1441 \nQ 3278 1109 3186 832 \nQ 3094 556 2914 357 \nQ 2734 159 2468 48 \nQ 2203 -63 1856 -63 \nQ 1472 -63 1184 84 \nQ 897 231 706 507 \nQ 516 784 420 1186 \nQ 325 1588 325 2100 \nQ 325 2688 433 3131 \nQ 541 3575 744 3872 \nQ 947 4169 1239 4319 \nQ 1531 4469 1900 4469 \nQ 2125 4469 2322 4422 \nQ 2519 4375 2680 4270 \nQ 2841 4166 2962 3994 \nQ 3084 3822 3156 3572 \nL 2619 3475 \nQ 2531 3759 2339 3886 \nQ 2147 4013 1894 4013 \nQ 1663 4013 1475 3903 \nQ 1288 3794 1156 3576 \nQ 1025 3359 954 3031 \nQ 884 2703 884 2266 \nQ 1038 2550 1316 2698 \nQ 1594 2847 1953 2847 \nQ 2253 2847 2497 2750 \nQ 2741 2653 2914 2470 \nQ 3088 2288 3183 2027 \nQ 3278 1766 3278 1441 \nz\nM 2706 1416 \nQ 2706 1644 2650 1828 \nQ 2594 2013 2481 2142 \nQ 2369 2272 2203 2342 \nQ 2038 2413 1819 2413 \nQ 1666 2413 1509 2367 \nQ 1353 2322 1226 2220 \nQ 1100 2119 1020 1953 \nQ 941 1788 941 1550 \nQ 941 1306 1003 1095 \nQ 1066 884 1183 728 \nQ 1300 572 1465 481 \nQ 1631 391 1838 391 \nQ 2041 391 2202 461 \nQ 2363 531 2475 664 \nQ 2588 797 2647 987 \nQ 2706 1178 2706 1416 \nz\n\" transform=\"scale(0.015625)\"/>\n       </defs>\n       <use xlink:href=\"#LiberationSans-30\"/>\n       <use xlink:href=\"#LiberationSans-2e\" x=\"55.615234\"/>\n       <use xlink:href=\"#LiberationSans-36\" x=\"83.398438\"/>\n      </g>\n     </g>\n    </g>\n    <g id=\"ytick_5\">\n     <g id=\"line2d_27\">\n      <path d=\"M 33.0825 58.279687 \nL 312.0825 58.279687 \n\" clip-path=\"url(#p2c4f135f0a)\" style=\"fill: none; stroke: #ffffff; stroke-width: 0.8; stroke-linecap: round\"/>\n     </g>\n     <g id=\"line2d_28\"/>\n     <g id=\"text_15\">\n      <!-- 0.8 -->\n      <g style=\"fill: #555555\" transform=\"translate(19.8525 60.816094) scale(0.07 -0.07)\">\n       <defs>\n        <path id=\"LiberationSans-38\" d=\"M 3281 1228 \nQ 3281 947 3192 711 \nQ 3103 475 2920 303 \nQ 2738 131 2453 34 \nQ 2169 -63 1781 -63 \nQ 1394 -63 1111 34 \nQ 828 131 642 301 \nQ 456 472 367 708 \nQ 278 944 278 1222 \nQ 278 1463 351 1650 \nQ 425 1838 548 1973 \nQ 672 2109 830 2192 \nQ 988 2275 1156 2303 \nL 1156 2316 \nQ 972 2359 826 2456 \nQ 681 2553 582 2689 \nQ 484 2825 432 2990 \nQ 381 3156 381 3341 \nQ 381 3572 470 3776 \nQ 559 3981 734 4136 \nQ 909 4291 1168 4380 \nQ 1428 4469 1769 4469 \nQ 2128 4469 2392 4378 \nQ 2656 4288 2829 4133 \nQ 3003 3978 3087 3772 \nQ 3172 3566 3172 3334 \nQ 3172 3153 3120 2987 \nQ 3069 2822 2970 2686 \nQ 2872 2550 2726 2454 \nQ 2581 2359 2391 2322 \nL 2391 2309 \nQ 2581 2278 2743 2195 \nQ 2906 2113 3025 1977 \nQ 3144 1841 3212 1653 \nQ 3281 1466 3281 1228 \nz\nM 2588 3303 \nQ 2588 3469 2545 3606 \nQ 2503 3744 2406 3842 \nQ 2309 3941 2153 3995 \nQ 1997 4050 1769 4050 \nQ 1547 4050 1394 3995 \nQ 1241 3941 1142 3842 \nQ 1044 3744 1000 3606 \nQ 956 3469 956 3303 \nQ 956 3172 990 3034 \nQ 1025 2897 1115 2784 \nQ 1206 2672 1365 2600 \nQ 1525 2528 1775 2528 \nQ 2041 2528 2202 2600 \nQ 2363 2672 2448 2784 \nQ 2534 2897 2561 3034 \nQ 2588 3172 2588 3303 \nz\nM 2697 1281 \nQ 2697 1441 2653 1589 \nQ 2609 1738 2503 1852 \nQ 2397 1966 2217 2036 \nQ 2038 2106 1769 2106 \nQ 1522 2106 1348 2036 \nQ 1175 1966 1067 1850 \nQ 959 1734 909 1582 \nQ 859 1431 859 1269 \nQ 859 1066 909 898 \nQ 959 731 1068 611 \nQ 1178 491 1356 425 \nQ 1534 359 1788 359 \nQ 2044 359 2219 425 \nQ 2394 491 2500 611 \nQ 2606 731 2651 901 \nQ 2697 1072 2697 1281 \nz\n\" transform=\"scale(0.015625)\"/>\n       </defs>\n       <use xlink:href=\"#LiberationSans-30\"/>\n       <use xlink:href=\"#LiberationSans-2e\" x=\"55.615234\"/>\n       <use xlink:href=\"#LiberationSans-38\" x=\"83.398438\"/>\n      </g>\n     </g>\n    </g>\n    <g id=\"ytick_6\">\n     <g id=\"line2d_29\">\n      <path d=\"M 33.0825 28.039687 \nL 312.0825 28.039687 \n\" clip-path=\"url(#p2c4f135f0a)\" style=\"fill: none; stroke: #ffffff; stroke-width: 0.8; stroke-linecap: round\"/>\n     </g>\n     <g id=\"line2d_30\"/>\n     <g id=\"text_16\">\n      <!-- 1.0 -->\n      <g style=\"fill: #555555\" transform=\"translate(19.8525 30.576094) scale(0.07 -0.07)\">\n       <use xlink:href=\"#LiberationSans-31\"/>\n       <use xlink:href=\"#LiberationSans-2e\" x=\"55.615234\"/>\n       <use xlink:href=\"#LiberationSans-30\" x=\"83.398438\"/>\n      </g>\n     </g>\n    </g>\n    <g id=\"text_17\">\n     <!-- Ângulo (Graus°) -->\n     <g style=\"fill: #555555\" transform=\"translate(14.1925 132.360312) rotate(-90) scale(0.08 -0.08)\">\n      <defs>\n       <path id=\"LiberationSans-c2\" d=\"M 3647 0 \nL 3144 1288 \nL 1138 1288 \nL 631 0 \nL 13 0 \nL 1809 4403 \nL 2488 4403 \nL 4256 0 \nL 3647 0 \nz\nM 2400 3206 \nQ 2350 3331 2304 3459 \nQ 2259 3588 2225 3692 \nQ 2191 3797 2167 3867 \nQ 2144 3938 2141 3953 \nQ 2134 3938 2112 3866 \nQ 2091 3794 2055 3687 \nQ 2019 3581 1973 3453 \nQ 1928 3325 1881 3200 \nL 1319 1753 \nL 2966 1753 \nL 2400 3206 \nz\nM 3173 4844 \nL 3173 4781 \nL 2845 4781 \nL 2160 5216 \nL 2154 5216 \nL 1429 4781 \nL 1104 4781 \nL 1104 4844 \nL 1835 5594 \nL 2473 5594 \nL 3173 4844 \nz\n\" transform=\"scale(0.015625)\"/>\n       <path id=\"LiberationSans-6e\" d=\"M 2578 0 \nL 2578 2144 \nQ 2578 2391 2542 2556 \nQ 2506 2722 2425 2823 \nQ 2344 2925 2211 2967 \nQ 2078 3009 1881 3009 \nQ 1681 3009 1520 2939 \nQ 1359 2869 1245 2736 \nQ 1131 2603 1068 2408 \nQ 1006 2213 1006 1959 \nL 1006 0 \nL 444 0 \nL 444 2659 \nQ 444 2766 442 2883 \nQ 441 3000 437 3104 \nQ 434 3209 431 3284 \nQ 428 3359 425 3381 \nL 956 3381 \nQ 959 3366 962 3297 \nQ 966 3228 970 3139 \nQ 975 3050 978 2958 \nQ 981 2866 981 2803 \nL 991 2803 \nQ 1072 2950 1169 3069 \nQ 1266 3188 1394 3270 \nQ 1522 3353 1687 3398 \nQ 1853 3444 2072 3444 \nQ 2353 3444 2556 3375 \nQ 2759 3306 2890 3162 \nQ 3022 3019 3083 2792 \nQ 3144 2566 3144 2253 \nL 3144 0 \nL 2578 0 \nz\n\" transform=\"scale(0.015625)\"/>\n       <path id=\"LiberationSans-67\" d=\"M 1713 -1328 \nQ 1422 -1328 1197 -1268 \nQ 972 -1209 812 -1098 \nQ 653 -988 553 -834 \nQ 453 -681 409 -494 \nL 975 -413 \nQ 1031 -647 1223 -773 \nQ 1416 -900 1728 -900 \nQ 1919 -900 2075 -847 \nQ 2231 -794 2340 -676 \nQ 2450 -559 2509 -371 \nQ 2569 -184 2569 84 \nL 2569 628 \nL 2563 628 \nQ 2500 500 2408 383 \nQ 2316 266 2183 175 \nQ 2050 84 1875 29 \nQ 1700 -25 1475 -25 \nQ 1153 -25 923 83 \nQ 694 191 548 406 \nQ 403 622 336 942 \nQ 269 1263 269 1684 \nQ 269 2091 336 2416 \nQ 403 2741 554 2967 \nQ 706 3194 948 3314 \nQ 1191 3434 1538 3434 \nQ 1897 3434 2161 3270 \nQ 2425 3106 2569 2803 \nL 2575 2803 \nQ 2575 2881 2579 2978 \nQ 2584 3075 2589 3161 \nQ 2594 3247 2600 3309 \nQ 2606 3372 2613 3381 \nL 3147 3381 \nQ 3144 3353 3141 3286 \nQ 3138 3219 3134 3125 \nQ 3131 3031 3129 2917 \nQ 3128 2803 3128 2681 \nL 3128 97 \nQ 3128 -613 2779 -970 \nQ 2431 -1328 1713 -1328 \nz\nM 2569 1691 \nQ 2569 2044 2492 2295 \nQ 2416 2547 2291 2706 \nQ 2166 2866 2005 2941 \nQ 1844 3016 1675 3016 \nQ 1459 3016 1304 2941 \nQ 1150 2866 1048 2705 \nQ 947 2544 898 2292 \nQ 850 2041 850 1691 \nQ 850 1325 898 1076 \nQ 947 828 1047 675 \nQ 1147 522 1300 456 \nQ 1453 391 1666 391 \nQ 1834 391 1995 462 \nQ 2156 534 2284 690 \nQ 2413 847 2491 1094 \nQ 2569 1341 2569 1691 \nz\n\" transform=\"scale(0.015625)\"/>\n       <path id=\"LiberationSans-75\" d=\"M 981 3381 \nL 981 1238 \nQ 981 991 1017 825 \nQ 1053 659 1134 557 \nQ 1216 456 1348 414 \nQ 1481 372 1678 372 \nQ 1878 372 2039 442 \nQ 2200 513 2314 645 \nQ 2428 778 2490 973 \nQ 2553 1169 2553 1422 \nL 2553 3381 \nL 3116 3381 \nL 3116 722 \nQ 3116 616 3117 498 \nQ 3119 381 3122 276 \nQ 3125 172 3128 97 \nQ 3131 22 3134 0 \nL 2603 0 \nQ 2600 16 2597 84 \nQ 2594 153 2589 242 \nQ 2584 331 2581 423 \nQ 2578 516 2578 578 \nL 2569 578 \nQ 2488 431 2391 312 \nQ 2294 194 2166 111 \nQ 2038 28 1872 -17 \nQ 1706 -63 1488 -63 \nQ 1206 -63 1003 6 \nQ 800 75 669 219 \nQ 538 363 477 588 \nQ 416 813 416 1128 \nL 416 3381 \nL 981 3381 \nz\n\" transform=\"scale(0.015625)\"/>\n       <path id=\"LiberationSans-6c\" d=\"M 431 0 \nL 431 4638 \nL 994 4638 \nL 994 0 \nL 431 0 \nz\n\" transform=\"scale(0.015625)\"/>\n       <path id=\"LiberationSans-47\" d=\"M 322 2222 \nQ 322 2738 461 3153 \nQ 600 3569 876 3861 \nQ 1153 4153 1562 4311 \nQ 1972 4469 2513 4469 \nQ 2919 4469 3225 4397 \nQ 3531 4325 3756 4190 \nQ 3981 4056 4137 3864 \nQ 4294 3672 4403 3431 \nL 3834 3263 \nQ 3753 3425 3639 3558 \nQ 3525 3691 3362 3784 \nQ 3200 3878 2986 3929 \nQ 2772 3981 2497 3981 \nQ 2097 3981 1801 3856 \nQ 1506 3731 1312 3500 \nQ 1119 3269 1023 2944 \nQ 928 2619 928 2222 \nQ 928 1825 1031 1495 \nQ 1134 1166 1337 927 \nQ 1541 688 1842 555 \nQ 2144 422 2541 422 \nQ 2800 422 3019 465 \nQ 3238 509 3414 579 \nQ 3591 650 3725 736 \nQ 3859 822 3950 909 \nL 3950 1703 \nL 2634 1703 \nL 2634 2203 \nL 4500 2203 \nL 4500 684 \nQ 4353 534 4154 398 \nQ 3956 263 3709 159 \nQ 3463 56 3169 -3 \nQ 2875 -63 2541 -63 \nQ 1984 -63 1568 107 \nQ 1153 278 876 583 \nQ 600 888 461 1306 \nQ 322 1725 322 2222 \nz\n\" transform=\"scale(0.015625)\"/>\n       <path id=\"LiberationSans-72\" d=\"M 444 0 \nL 444 2594 \nQ 444 2700 442 2811 \nQ 441 2922 437 3025 \nQ 434 3128 431 3218 \nQ 428 3309 425 3381 \nL 956 3381 \nQ 959 3309 964 3217 \nQ 969 3125 973 3028 \nQ 978 2931 979 2842 \nQ 981 2753 981 2691 \nL 994 2691 \nQ 1053 2884 1120 3026 \nQ 1188 3169 1278 3261 \nQ 1369 3353 1494 3398 \nQ 1619 3444 1797 3444 \nQ 1866 3444 1928 3433 \nQ 1991 3422 2025 3413 \nL 2025 2897 \nQ 1969 2913 1894 2920 \nQ 1819 2928 1725 2928 \nQ 1531 2928 1395 2840 \nQ 1259 2753 1173 2598 \nQ 1088 2444 1047 2230 \nQ 1006 2016 1006 1763 \nL 1006 0 \nL 444 0 \nz\n\" transform=\"scale(0.015625)\"/>\n       <path id=\"LiberationSans-61\" d=\"M 1294 -63 \nQ 784 -63 528 206 \nQ 272 475 272 944 \nQ 272 1278 398 1492 \nQ 525 1706 729 1828 \nQ 934 1950 1196 1997 \nQ 1459 2044 1731 2050 \nL 2491 2063 \nL 2491 2247 \nQ 2491 2456 2447 2603 \nQ 2403 2750 2312 2840 \nQ 2222 2931 2086 2973 \nQ 1950 3016 1766 3016 \nQ 1603 3016 1472 2992 \nQ 1341 2969 1244 2908 \nQ 1147 2847 1087 2742 \nQ 1028 2638 1009 2478 \nL 422 2531 \nQ 453 2731 540 2898 \nQ 628 3066 789 3187 \nQ 950 3309 1192 3376 \nQ 1434 3444 1778 3444 \nQ 2416 3444 2737 3151 \nQ 3059 2859 3059 2306 \nL 3059 850 \nQ 3059 600 3125 473 \nQ 3191 347 3375 347 \nQ 3422 347 3469 353 \nQ 3516 359 3559 369 \nL 3559 19 \nQ 3453 -6 3348 -18 \nQ 3244 -31 3125 -31 \nQ 2966 -31 2852 11 \nQ 2738 53 2666 139 \nQ 2594 225 2556 351 \nQ 2519 478 2509 647 \nL 2491 647 \nQ 2400 484 2292 353 \nQ 2184 222 2040 130 \nQ 1897 38 1714 -12 \nQ 1531 -63 1294 -63 \nz\nM 1422 359 \nQ 1691 359 1892 457 \nQ 2094 556 2226 709 \nQ 2359 863 2425 1044 \nQ 2491 1225 2491 1391 \nL 2491 1669 \nL 1875 1656 \nQ 1669 1653 1483 1626 \nQ 1297 1600 1156 1522 \nQ 1016 1444 933 1303 \nQ 850 1163 850 934 \nQ 850 659 998 509 \nQ 1147 359 1422 359 \nz\n\" transform=\"scale(0.015625)\"/>\n       <path id=\"LiberationSans-b0\" d=\"M 2175 3578 \nQ 2175 3394 2104 3231 \nQ 2034 3069 1912 2948 \nQ 1791 2828 1627 2758 \nQ 1463 2688 1278 2688 \nQ 1094 2688 931 2758 \nQ 769 2828 647 2948 \nQ 525 3069 453 3231 \nQ 381 3394 381 3578 \nQ 381 3766 453 3928 \nQ 525 4091 647 4211 \nQ 769 4331 931 4400 \nQ 1094 4469 1278 4469 \nQ 1463 4469 1627 4400 \nQ 1791 4331 1912 4211 \nQ 2034 4091 2104 3928 \nQ 2175 3766 2175 3578 \nz\nM 1834 3578 \nQ 1834 3694 1792 3797 \nQ 1750 3900 1675 3976 \nQ 1600 4053 1498 4097 \nQ 1397 4141 1278 4141 \nQ 1163 4141 1061 4097 \nQ 959 4053 884 3976 \nQ 809 3900 765 3797 \nQ 722 3694 722 3578 \nQ 722 3463 765 3361 \nQ 809 3259 884 3182 \nQ 959 3106 1061 3061 \nQ 1163 3016 1278 3016 \nQ 1397 3016 1498 3061 \nQ 1600 3106 1675 3182 \nQ 1750 3259 1792 3361 \nQ 1834 3463 1834 3578 \nz\n\" transform=\"scale(0.015625)\"/>\n      </defs>\n      <use xlink:href=\"#LiberationSans-c2\"/>\n      <use xlink:href=\"#LiberationSans-6e\" x=\"66.699219\"/>\n      <use xlink:href=\"#LiberationSans-67\" x=\"122.314453\"/>\n      <use xlink:href=\"#LiberationSans-75\" x=\"177.929688\"/>\n      <use xlink:href=\"#LiberationSans-6c\" x=\"233.544922\"/>\n      <use xlink:href=\"#LiberationSans-6f\" x=\"255.761719\"/>\n      <use xlink:href=\"#LiberationSans-20\" x=\"311.376953\"/>\n      <use xlink:href=\"#LiberationSans-28\" x=\"339.160156\"/>\n      <use xlink:href=\"#LiberationSans-47\" x=\"372.460938\"/>\n      <use xlink:href=\"#LiberationSans-72\" x=\"450.244141\"/>\n      <use xlink:href=\"#LiberationSans-61\" x=\"483.544922\"/>\n      <use xlink:href=\"#LiberationSans-75\" x=\"539.160156\"/>\n      <use xlink:href=\"#LiberationSans-73\" x=\"594.775391\"/>\n      <use xlink:href=\"#LiberationSans-b0\" x=\"644.775391\"/>\n      <use xlink:href=\"#LiberationSans-29\" x=\"684.765625\"/>\n     </g>\n    </g>\n   </g>\n   <g id=\"line2d_31\">\n    <path d=\"M 45.764318 179.239687 \nL 45.764318 28.039687 \nL 299.400682 28.039687 \n\" clip-path=\"url(#p2c4f135f0a)\" style=\"fill: none; stroke-dasharray: 3.7,1.6; stroke-dashoffset: 0; stroke: #e24a33\"/>\n   </g>\n   <g id=\"line2d_32\">\n    <path d=\"M 45.764318 179.239687 \nL 46.808089 177.94383 \nL 47.85186 174.230931 \nL 48.895631 168.46 \nL 49.939402 161.095158 \nL 55.158258 119.559984 \nL 56.202029 113.865982 \nL 57.2458 109.888443 \nL 58.289571 107.773992 \nL 59.333342 107.548039 \nL 60.377113 109.119927 \nL 61.420884 112.294858 \nL 62.464655 116.791473 \nL 64.552197 128.325426 \nL 66.639739 140.625476 \nL 67.68351 146.117708 \nL 68.727281 150.750027 \nL 69.771052 154.288712 \nL 70.814823 156.57936 \nL 71.858594 157.55187 \nL 72.902365 157.22005 \nL 73.946136 155.676133 \nL 74.989907 153.080846 \nL 76.033678 149.649868 \nL 78.121221 141.320039 \nL 80.208763 132.870581 \nL 81.252534 129.240044 \nL 82.296305 126.278503 \nL 83.340076 124.128792 \nL 84.383847 122.87656 \nL 85.427618 122.548233 \nL 86.471389 123.112684 \nL 87.51516 124.486299 \nL 88.558931 126.540961 \nL 89.602702 129.114282 \nL 93.777786 140.81897 \nL 94.821557 143.191412 \nL 95.865328 145.054034 \nL 96.909099 146.321925 \nL 97.95287 146.950976 \nL 98.996641 146.938301 \nL 100.040412 146.320138 \nL 101.084184 145.167481 \nL 102.127955 143.579854 \nL 104.215497 139.593855 \nL 106.303039 135.422611 \nL 107.34681 133.586159 \nL 108.390581 132.055678 \nL 109.434352 130.907179 \nL 110.478123 130.18928 \nL 111.521894 129.92177 \nL 112.565665 130.095999 \nL 113.609436 130.676974 \nL 114.653207 131.606942 \nL 115.696978 132.810152 \nL 120.915833 139.742012 \nL 121.959604 140.714842 \nL 123.003375 141.405568 \nL 124.047146 141.787845 \nL 125.090918 141.855511 \nL 126.134689 141.621844 \nL 127.17846 141.117686 \nL 128.222231 140.388596 \nL 130.309773 138.48949 \nL 133.441086 135.512569 \nL 134.484857 134.726216 \nL 135.528628 134.118579 \nL 136.572399 133.716674 \nL 137.61617 133.53353 \nL 138.659941 133.568177 \nL 139.703712 133.806476 \nL 140.747483 134.222701 \nL 142.835025 135.441784 \nL 147.010109 138.183088 \nL 148.05388 138.687713 \nL 149.097652 139.059186 \nL 150.141423 139.282313 \nL 151.185194 139.351744 \nL 152.228965 139.27176 \nL 153.272736 139.055474 \nL 155.360278 138.302535 \nL 160.579133 135.951179 \nL 162.666675 135.411455 \nL 164.754217 135.288314 \nL 166.841759 135.565605 \nL 168.929301 136.135832 \nL 174.148157 137.746752 \nL 176.235699 138.070979 \nL 178.323241 138.100699 \nL 180.410783 137.860658 \nL 183.542096 137.190401 \nL 186.673409 136.508096 \nL 188.760951 136.222378 \nL 190.848493 136.137435 \nL 192.936035 136.251434 \nL 196.067348 136.681937 \nL 200.242433 137.313098 \nL 203.373746 137.521621 \nL 206.505059 137.416176 \nL 211.723914 136.862153 \nL 214.855227 136.608704 \nL 217.98654 136.56608 \nL 222.161625 136.801416 \nL 228.424251 137.20777 \nL 232.599335 137.18848 \nL 245.124588 136.776344 \nL 260.781153 137.029282 \nL 271.218864 136.865185 \nL 290.006742 136.952813 \nL 299.400682 136.921172 \nL 299.400682 136.921172 \n\" clip-path=\"url(#p2c4f135f0a)\" style=\"fill: none; stroke: #348abd; stroke-linecap: round\"/>\n   </g>\n   <g id=\"patch_3\">\n    <path d=\"M 33.0825 186.799687 \nL 33.0825 20.479687 \n\" style=\"fill: none; stroke: #ffffff; stroke-linejoin: miter; stroke-linecap: square\"/>\n   </g>\n   <g id=\"patch_4\">\n    <path d=\"M 312.0825 186.799687 \nL 312.0825 20.479687 \n\" style=\"fill: none; stroke: #ffffff; stroke-linejoin: miter; stroke-linecap: square\"/>\n   </g>\n   <g id=\"patch_5\">\n    <path d=\"M 33.0825 186.799687 \nL 312.0825 186.799687 \n\" style=\"fill: none; stroke: #ffffff; stroke-linejoin: miter; stroke-linecap: square\"/>\n   </g>\n   <g id=\"patch_6\">\n    <path d=\"M 33.0825 20.479687 \nL 312.0825 20.479687 \n\" style=\"fill: none; stroke: #ffffff; stroke-linejoin: miter; stroke-linecap: square\"/>\n   </g>\n   <g id=\"text_18\">\n    <!-- Aeropêndulo em Malha Aberta -->\n    <g style=\"fill: #262626\" transform=\"translate(105.042656 14.479687) scale(0.1 -0.1)\">\n     <defs>\n      <path id=\"LiberationSans-41\" d=\"M 3647 0 \nL 3144 1288 \nL 1138 1288 \nL 631 0 \nL 13 0 \nL 1809 4403 \nL 2488 4403 \nL 4256 0 \nL 3647 0 \nz\nM 2400 3206 \nQ 2350 3331 2304 3459 \nQ 2259 3588 2225 3692 \nQ 2191 3797 2167 3867 \nQ 2144 3938 2141 3953 \nQ 2134 3938 2112 3866 \nQ 2091 3794 2055 3687 \nQ 2019 3581 1973 3453 \nQ 1928 3325 1881 3200 \nL 1319 1753 \nL 2966 1753 \nL 2400 3206 \nz\n\" transform=\"scale(0.015625)\"/>\n      <path id=\"LiberationSans-ea\" d=\"M 863 1572 \nQ 863 1306 917 1082 \nQ 972 859 1086 698 \nQ 1200 538 1378 448 \nQ 1556 359 1806 359 \nQ 2172 359 2392 506 \nQ 2613 653 2691 878 \nL 3184 738 \nQ 3131 597 3036 455 \nQ 2941 313 2781 198 \nQ 2622 84 2383 10 \nQ 2144 -63 1806 -63 \nQ 1056 -63 664 384 \nQ 272 831 272 1713 \nQ 272 2188 390 2517 \nQ 509 2847 715 3053 \nQ 922 3259 1197 3351 \nQ 1472 3444 1784 3444 \nQ 2209 3444 2495 3306 \nQ 2781 3169 2954 2926 \nQ 3128 2684 3201 2356 \nQ 3275 2028 3275 1647 \nL 3275 1572 \nL 863 1572 \nz\nM 2694 2003 \nQ 2647 2538 2422 2783 \nQ 2197 3028 1775 3028 \nQ 1634 3028 1479 2983 \nQ 1325 2938 1194 2822 \nQ 1063 2706 972 2507 \nQ 881 2309 869 2003 \nL 2694 2003 \nz\nM 2837 3816 \nL 2837 3753 \nL 2509 3753 \nL 1824 4281 \nL 1818 4281 \nL 1093 3753 \nL 768 3753 \nL 768 3816 \nL 1499 4659 \nL 2137 4659 \nL 2837 3816 \nz\n\" transform=\"scale(0.015625)\"/>\n      <path id=\"LiberationSans-64\" d=\"M 2566 544 \nQ 2409 219 2151 78 \nQ 1894 -63 1513 -63 \nQ 872 -63 570 368 \nQ 269 800 269 1675 \nQ 269 3444 1513 3444 \nQ 1897 3444 2153 3303 \nQ 2409 3163 2566 2856 \nL 2572 2856 \nQ 2572 2888 2570 2955 \nQ 2569 3022 2567 3095 \nQ 2566 3169 2566 3234 \nQ 2566 3300 2566 3328 \nL 2566 4638 \nL 3128 4638 \nL 3128 697 \nQ 3128 575 3129 462 \nQ 3131 350 3134 256 \nQ 3138 163 3141 95 \nQ 3144 28 3147 0 \nL 2609 0 \nQ 2603 31 2598 89 \nQ 2594 147 2589 222 \nQ 2584 297 2581 380 \nQ 2578 463 2578 544 \nL 2566 544 \nz\nM 859 1694 \nQ 859 1344 903 1094 \nQ 947 844 1044 683 \nQ 1141 522 1291 447 \nQ 1441 372 1656 372 \nQ 1878 372 2048 444 \nQ 2219 516 2333 677 \nQ 2447 838 2506 1097 \nQ 2566 1356 2566 1731 \nQ 2566 2091 2506 2339 \nQ 2447 2588 2331 2741 \nQ 2216 2894 2048 2961 \nQ 1881 3028 1663 3028 \nQ 1456 3028 1306 2956 \nQ 1156 2884 1056 2725 \nQ 956 2566 907 2311 \nQ 859 2056 859 1694 \nz\n\" transform=\"scale(0.015625)\"/>\n      <path id=\"LiberationSans-4d\" d=\"M 4269 0 \nL 4269 2938 \nQ 4269 3097 4272 3262 \nQ 4275 3428 4281 3566 \nQ 4288 3725 4297 3875 \nQ 4253 3716 4206 3559 \nQ 4166 3425 4117 3273 \nQ 4069 3122 4022 3000 \nL 2884 0 \nL 2466 0 \nL 1313 3000 \nQ 1294 3047 1273 3109 \nQ 1253 3172 1229 3242 \nQ 1206 3313 1182 3386 \nQ 1159 3459 1138 3531 \nQ 1084 3697 1034 3875 \nQ 1038 3700 1044 3528 \nQ 1050 3381 1053 3220 \nQ 1056 3059 1056 2938 \nL 1056 0 \nL 525 0 \nL 525 4403 \nL 1309 4403 \nL 2481 1350 \nQ 2503 1288 2534 1189 \nQ 2566 1091 2594 987 \nQ 2622 884 2645 792 \nQ 2669 700 2678 650 \nQ 2688 700 2713 794 \nQ 2738 888 2770 991 \nQ 2803 1094 2834 1191 \nQ 2866 1288 2891 1350 \nL 4041 4403 \nL 4806 4403 \nL 4806 0 \nL 4269 0 \nz\n\" transform=\"scale(0.015625)\"/>\n      <path id=\"LiberationSans-68\" d=\"M 991 2803 \nQ 1084 2975 1193 3095 \nQ 1303 3216 1434 3294 \nQ 1566 3372 1722 3408 \nQ 1878 3444 2072 3444 \nQ 2397 3444 2605 3356 \nQ 2813 3269 2933 3111 \nQ 3053 2953 3098 2734 \nQ 3144 2516 3144 2253 \nL 3144 0 \nL 2578 0 \nL 2578 2144 \nQ 2578 2359 2551 2521 \nQ 2525 2684 2450 2792 \nQ 2375 2900 2237 2954 \nQ 2100 3009 1881 3009 \nQ 1681 3009 1520 2937 \nQ 1359 2866 1245 2734 \nQ 1131 2603 1068 2415 \nQ 1006 2228 1006 1994 \nL 1006 0 \nL 444 0 \nL 444 4638 \nL 1006 4638 \nL 1006 3431 \nQ 1006 3328 1003 3225 \nQ 1000 3122 995 3034 \nQ 991 2947 987 2886 \nQ 984 2825 981 2803 \nL 991 2803 \nz\n\" transform=\"scale(0.015625)\"/>\n      <path id=\"LiberationSans-62\" d=\"M 3291 1706 \nQ 3291 -63 2047 -63 \nQ 1663 -63 1408 76 \nQ 1153 216 994 525 \nL 988 525 \nQ 988 444 983 356 \nQ 978 269 973 194 \nQ 969 119 964 66 \nQ 959 13 956 0 \nL 413 0 \nQ 416 28 419 95 \nQ 422 163 425 256 \nQ 428 350 429 462 \nQ 431 575 431 697 \nL 431 4638 \nL 994 4638 \nL 994 3316 \nQ 994 3222 992 3136 \nQ 991 3050 988 2984 \nQ 984 2906 981 2838 \nL 994 2838 \nQ 1150 3163 1408 3303 \nQ 1666 3444 2047 3444 \nQ 2688 3444 2989 3012 \nQ 3291 2581 3291 1706 \nz\nM 2700 1688 \nQ 2700 2038 2656 2288 \nQ 2613 2538 2516 2698 \nQ 2419 2859 2269 2934 \nQ 2119 3009 1903 3009 \nQ 1681 3009 1511 2937 \nQ 1341 2866 1227 2706 \nQ 1113 2547 1053 2287 \nQ 994 2028 994 1653 \nQ 994 1291 1053 1044 \nQ 1113 797 1227 642 \nQ 1341 488 1509 420 \nQ 1678 353 1897 353 \nQ 2103 353 2253 425 \nQ 2403 497 2503 656 \nQ 2603 816 2651 1070 \nQ 2700 1325 2700 1688 \nz\n\" transform=\"scale(0.015625)\"/>\n      <path id=\"LiberationSans-74\" d=\"M 1731 25 \nQ 1603 -9 1470 -29 \nQ 1338 -50 1163 -50 \nQ 488 -50 488 716 \nL 488 2972 \nL 97 2972 \nL 97 3381 \nL 509 3381 \nL 675 4138 \nL 1050 4138 \nL 1050 3381 \nL 1675 3381 \nL 1675 2972 \nL 1050 2972 \nL 1050 838 \nQ 1050 594 1129 495 \nQ 1209 397 1406 397 \nQ 1488 397 1564 409 \nQ 1641 422 1731 441 \nL 1731 25 \nz\n\" transform=\"scale(0.015625)\"/>\n     </defs>\n     <use xlink:href=\"#LiberationSans-41\"/>\n     <use xlink:href=\"#LiberationSans-65\" x=\"66.699219\"/>\n     <use xlink:href=\"#LiberationSans-72\" x=\"122.314453\"/>\n     <use xlink:href=\"#LiberationSans-6f\" x=\"155.615234\"/>\n     <use xlink:href=\"#LiberationSans-70\" x=\"211.230469\"/>\n     <use xlink:href=\"#LiberationSans-ea\" x=\"266.845703\"/>\n     <use xlink:href=\"#LiberationSans-6e\" x=\"322.460938\"/>\n     <use xlink:href=\"#LiberationSans-64\" x=\"378.076172\"/>\n     <use xlink:href=\"#LiberationSans-75\" x=\"433.691406\"/>\n     <use xlink:href=\"#LiberationSans-6c\" x=\"489.306641\"/>\n     <use xlink:href=\"#LiberationSans-6f\" x=\"511.523438\"/>\n     <use xlink:href=\"#LiberationSans-20\" x=\"567.138672\"/>\n     <use xlink:href=\"#LiberationSans-65\" x=\"594.921875\"/>\n     <use xlink:href=\"#LiberationSans-6d\" x=\"650.537109\"/>\n     <use xlink:href=\"#LiberationSans-20\" x=\"733.837891\"/>\n     <use xlink:href=\"#LiberationSans-4d\" x=\"761.621094\"/>\n     <use xlink:href=\"#LiberationSans-61\" x=\"844.921875\"/>\n     <use xlink:href=\"#LiberationSans-6c\" x=\"900.537109\"/>\n     <use xlink:href=\"#LiberationSans-68\" x=\"922.753906\"/>\n     <use xlink:href=\"#LiberationSans-61\" x=\"978.369141\"/>\n     <use xlink:href=\"#LiberationSans-20\" x=\"1033.984375\"/>\n     <use xlink:href=\"#LiberationSans-41\" x=\"1056.267578\"/>\n     <use xlink:href=\"#LiberationSans-62\" x=\"1122.966797\"/>\n     <use xlink:href=\"#LiberationSans-65\" x=\"1178.582031\"/>\n     <use xlink:href=\"#LiberationSans-72\" x=\"1234.197266\"/>\n     <use xlink:href=\"#LiberationSans-74\" x=\"1267.498047\"/>\n     <use xlink:href=\"#LiberationSans-61\" x=\"1295.28125\"/>\n    </g>\n   </g>\n   <g id=\"legend_1\">\n    <g id=\"line2d_33\">\n     <path d=\"M 203.321094 166.493125 \nL 210.321094 166.493125 \nL 217.321094 166.493125 \n\" style=\"fill: none; stroke-dasharray: 3.7,1.6; stroke-dashoffset: 0; stroke: #e24a33\"/>\n    </g>\n    <g id=\"text_19\">\n     <!-- Sinal Degrau Unitário U(S) -->\n     <g style=\"fill: #262626\" transform=\"translate(222.921094 168.943125) scale(0.07 -0.07)\">\n      <defs>\n       <path id=\"LiberationSans-53\" d=\"M 3975 1216 \nQ 3975 938 3867 703 \nQ 3759 469 3534 298 \nQ 3309 128 2967 32 \nQ 2625 -63 2156 -63 \nQ 1334 -63 875 225 \nQ 416 513 291 1056 \nL 869 1172 \nQ 913 1000 1003 859 \nQ 1094 719 1248 617 \nQ 1403 516 1631 459 \nQ 1859 403 2178 403 \nQ 2444 403 2666 448 \nQ 2888 494 3047 587 \nQ 3206 681 3295 829 \nQ 3384 978 3384 1184 \nQ 3384 1400 3286 1534 \nQ 3188 1669 3009 1756 \nQ 2831 1844 2584 1903 \nQ 2338 1963 2038 2031 \nQ 1853 2072 1667 2120 \nQ 1481 2169 1311 2236 \nQ 1141 2303 991 2393 \nQ 841 2484 731 2611 \nQ 622 2738 559 2905 \nQ 497 3072 497 3291 \nQ 497 3603 623 3826 \nQ 750 4050 975 4194 \nQ 1200 4338 1506 4403 \nQ 1813 4469 2169 4469 \nQ 2578 4469 2868 4405 \nQ 3159 4341 3359 4212 \nQ 3559 4084 3679 3895 \nQ 3800 3706 3872 3456 \nL 3284 3353 \nQ 3241 3513 3158 3638 \nQ 3075 3763 2940 3847 \nQ 2806 3931 2614 3975 \nQ 2422 4019 2163 4019 \nQ 1856 4019 1648 3964 \nQ 1441 3909 1314 3815 \nQ 1188 3722 1133 3595 \nQ 1078 3469 1078 3322 \nQ 1078 3125 1176 2998 \nQ 1275 2872 1444 2787 \nQ 1613 2703 1834 2647 \nQ 2056 2591 2306 2534 \nQ 2509 2488 2711 2439 \nQ 2913 2391 3097 2323 \nQ 3281 2256 3442 2165 \nQ 3603 2075 3722 1944 \nQ 3841 1813 3908 1634 \nQ 3975 1456 3975 1216 \nz\n\" transform=\"scale(0.015625)\"/>\n       <path id=\"LiberationSans-69\" d=\"M 428 4100 \nL 428 4638 \nL 991 4638 \nL 991 4100 \nL 428 4100 \nz\nM 428 0 \nL 428 3381 \nL 991 3381 \nL 991 0 \nL 428 0 \nz\n\" transform=\"scale(0.015625)\"/>\n       <path id=\"LiberationSans-44\" d=\"M 4316 2247 \nQ 4316 1697 4150 1276 \nQ 3984 856 3696 573 \nQ 3409 291 3017 145 \nQ 2625 0 2172 0 \nL 525 0 \nL 525 4403 \nL 1981 4403 \nQ 2491 4403 2920 4276 \nQ 3350 4150 3659 3886 \nQ 3969 3622 4142 3215 \nQ 4316 2809 4316 2247 \nz\nM 3716 2247 \nQ 3716 2694 3587 3011 \nQ 3459 3328 3228 3531 \nQ 2997 3734 2675 3829 \nQ 2353 3925 1969 3925 \nL 1122 3925 \nL 1122 478 \nL 2103 478 \nQ 2450 478 2745 590 \nQ 3041 703 3256 925 \nQ 3472 1147 3594 1478 \nQ 3716 1809 3716 2247 \nz\n\" transform=\"scale(0.015625)\"/>\n       <path id=\"LiberationSans-55\" d=\"M 2284 -63 \nQ 1922 -63 1597 34 \nQ 1272 131 1026 336 \nQ 781 541 637 855 \nQ 494 1169 494 1600 \nL 494 4403 \nL 1091 4403 \nL 1091 1650 \nQ 1091 1316 1180 1083 \nQ 1269 850 1428 703 \nQ 1588 556 1805 489 \nQ 2022 422 2281 422 \nQ 2538 422 2766 490 \nQ 2994 559 3166 709 \nQ 3338 859 3436 1101 \nQ 3534 1344 3534 1691 \nL 3534 4403 \nL 4128 4403 \nL 4128 1656 \nQ 4128 1216 3983 892 \nQ 3838 569 3588 356 \nQ 3338 144 3002 40 \nQ 2666 -63 2284 -63 \nz\n\" transform=\"scale(0.015625)\"/>\n       <path id=\"LiberationSans-e1\" d=\"M 1294 -63 \nQ 784 -63 528 206 \nQ 272 475 272 944 \nQ 272 1278 398 1492 \nQ 525 1706 729 1828 \nQ 934 1950 1196 1997 \nQ 1459 2044 1731 2050 \nL 2491 2063 \nL 2491 2247 \nQ 2491 2456 2447 2603 \nQ 2403 2750 2312 2840 \nQ 2222 2931 2086 2973 \nQ 1950 3016 1766 3016 \nQ 1603 3016 1472 2992 \nQ 1341 2969 1244 2908 \nQ 1147 2847 1087 2742 \nQ 1028 2638 1009 2478 \nL 422 2531 \nQ 453 2731 540 2898 \nQ 628 3066 789 3187 \nQ 950 3309 1192 3376 \nQ 1434 3444 1778 3444 \nQ 2416 3444 2737 3151 \nQ 3059 2859 3059 2306 \nL 3059 850 \nQ 3059 600 3125 473 \nQ 3191 347 3375 347 \nQ 3422 347 3469 353 \nQ 3516 359 3559 369 \nL 3559 19 \nQ 3453 -6 3348 -18 \nQ 3244 -31 3125 -31 \nQ 2966 -31 2852 11 \nQ 2738 53 2666 139 \nQ 2594 225 2556 351 \nQ 2519 478 2509 647 \nL 2491 647 \nQ 2400 484 2292 353 \nQ 2184 222 2040 130 \nQ 1897 38 1714 -12 \nQ 1531 -63 1294 -63 \nz\nM 1422 359 \nQ 1691 359 1892 457 \nQ 2094 556 2226 709 \nQ 2359 863 2425 1044 \nQ 2491 1225 2491 1391 \nL 2491 1669 \nL 1875 1656 \nQ 1669 1653 1483 1626 \nQ 1297 1600 1156 1522 \nQ 1016 1444 933 1303 \nQ 850 1163 850 934 \nQ 850 659 998 509 \nQ 1147 359 1422 359 \nz\nM 1289 3753 \nL 1289 3816 \nL 1967 4713 \nL 2614 4713 \nL 2614 4622 \nL 1583 3753 \nL 1289 3753 \nz\n\" transform=\"scale(0.015625)\"/>\n      </defs>\n      <use xlink:href=\"#LiberationSans-53\"/>\n      <use xlink:href=\"#LiberationSans-69\" x=\"66.699219\"/>\n      <use xlink:href=\"#LiberationSans-6e\" x=\"88.916016\"/>\n      <use xlink:href=\"#LiberationSans-61\" x=\"144.53125\"/>\n      <use xlink:href=\"#LiberationSans-6c\" x=\"200.146484\"/>\n      <use xlink:href=\"#LiberationSans-20\" x=\"222.363281\"/>\n      <use xlink:href=\"#LiberationSans-44\" x=\"250.146484\"/>\n      <use xlink:href=\"#LiberationSans-65\" x=\"322.363281\"/>\n      <use xlink:href=\"#LiberationSans-67\" x=\"377.978516\"/>\n      <use xlink:href=\"#LiberationSans-72\" x=\"433.59375\"/>\n      <use xlink:href=\"#LiberationSans-61\" x=\"466.894531\"/>\n      <use xlink:href=\"#LiberationSans-75\" x=\"522.509766\"/>\n      <use xlink:href=\"#LiberationSans-20\" x=\"578.125\"/>\n      <use xlink:href=\"#LiberationSans-55\" x=\"605.908203\"/>\n      <use xlink:href=\"#LiberationSans-6e\" x=\"678.125\"/>\n      <use xlink:href=\"#LiberationSans-69\" x=\"733.740234\"/>\n      <use xlink:href=\"#LiberationSans-74\" x=\"755.957031\"/>\n      <use xlink:href=\"#LiberationSans-e1\" x=\"783.740234\"/>\n      <use xlink:href=\"#LiberationSans-72\" x=\"839.355469\"/>\n      <use xlink:href=\"#LiberationSans-69\" x=\"872.65625\"/>\n      <use xlink:href=\"#LiberationSans-6f\" x=\"894.873047\"/>\n      <use xlink:href=\"#LiberationSans-20\" x=\"950.488281\"/>\n      <use xlink:href=\"#LiberationSans-55\" x=\"978.271484\"/>\n      <use xlink:href=\"#LiberationSans-28\" x=\"1050.488281\"/>\n      <use xlink:href=\"#LiberationSans-53\" x=\"1083.789062\"/>\n      <use xlink:href=\"#LiberationSans-29\" x=\"1150.488281\"/>\n     </g>\n    </g>\n    <g id=\"line2d_34\">\n     <path d=\"M 203.321094 176.597187 \nL 210.321094 176.597187 \nL 217.321094 176.597187 \n\" style=\"fill: none; stroke: #348abd; stroke-linecap: round\"/>\n    </g>\n    <g id=\"text_20\">\n     <!-- Sinal de Saída Y(S) -->\n     <g style=\"fill: #262626\" transform=\"translate(222.921094 179.047187) scale(0.07 -0.07)\">\n      <defs>\n       <path id=\"LiberationSans-ed\" d=\"M 606 0 \nL 606 3381 \nL 1169 3381 \nL 1169 0 \nL 606 0 \nz\nM 425 3753 \nL 425 3816 \nL 1103 4713 \nL 1750 4713 \nL 1750 4622 \nL 719 3753 \nL 425 3753 \nz\n\" transform=\"scale(0.015625)\"/>\n       <path id=\"LiberationSans-59\" d=\"M 2428 1825 \nL 2428 0 \nL 1834 0 \nL 1834 1825 \nL 141 4403 \nL 797 4403 \nL 2138 2306 \nL 3472 4403 \nL 4128 4403 \nL 2428 1825 \nz\n\" transform=\"scale(0.015625)\"/>\n      </defs>\n      <use xlink:href=\"#LiberationSans-53\"/>\n      <use xlink:href=\"#LiberationSans-69\" x=\"66.699219\"/>\n      <use xlink:href=\"#LiberationSans-6e\" x=\"88.916016\"/>\n      <use xlink:href=\"#LiberationSans-61\" x=\"144.53125\"/>\n      <use xlink:href=\"#LiberationSans-6c\" x=\"200.146484\"/>\n      <use xlink:href=\"#LiberationSans-20\" x=\"222.363281\"/>\n      <use xlink:href=\"#LiberationSans-64\" x=\"250.146484\"/>\n      <use xlink:href=\"#LiberationSans-65\" x=\"305.761719\"/>\n      <use xlink:href=\"#LiberationSans-20\" x=\"361.376953\"/>\n      <use xlink:href=\"#LiberationSans-53\" x=\"389.160156\"/>\n      <use xlink:href=\"#LiberationSans-61\" x=\"455.859375\"/>\n      <use xlink:href=\"#LiberationSans-ed\" x=\"511.474609\"/>\n      <use xlink:href=\"#LiberationSans-64\" x=\"539.257812\"/>\n      <use xlink:href=\"#LiberationSans-61\" x=\"594.873047\"/>\n      <use xlink:href=\"#LiberationSans-20\" x=\"650.488281\"/>\n      <use xlink:href=\"#LiberationSans-59\" x=\"676.521484\"/>\n      <use xlink:href=\"#LiberationSans-28\" x=\"743.220703\"/>\n      <use xlink:href=\"#LiberationSans-53\" x=\"776.521484\"/>\n      <use xlink:href=\"#LiberationSans-29\" x=\"843.220703\"/>\n     </g>\n    </g>\n   </g>\n  </g>\n </g>\n <defs>\n  <clipPath id=\"p2c4f135f0a\">\n   <rect x=\"33.0825\" y=\"20.479687\" width=\"279\" height=\"166.32\"/>\n  </clipPath>\n </defs>\n</svg>\n",
      "text/plain": [
       "<Figure size 500x300 with 1 Axes>"
      ]
     },
     "metadata": {},
     "output_type": "display_data"
    }
   ],
   "source": [
    "t, yout = ct.step_response(Gs)\n",
    "\n",
    "plt.rc('xtick', labelsize=7)\n",
    "plt.rc('ytick', labelsize=7)\n",
    "\n",
    "fig, ax = plt.subplots(figsize=(5, 3))\n",
    "ax.set_title(\"Aeropêndulo em Malha Aberta\", fontsize=10)\n",
    "ax.set_ylabel(\"Ângulo (Graus°)\", fontsize=8)\n",
    "ax.set_xlabel(\"Tempo (s)\", fontsize=8)\n",
    "ax.plot([0, 0, t[-1]], [0, 1, 1], \"--\", lw=1,\n",
    "        label=\"Sinal Degrau Unitário U(S)\")\n",
    "ax.plot(t, yout, lw=1., label=\"Sinal de Saída Y(S)\")\n",
    "ax.legend(fontsize=7)\n",
    "plt.show()"
   ]
  }
 ],
 "metadata": {
  "kernelspec": {
   "display_name": "Python 3",
   "language": "python",
   "name": "python3"
  },
  "language_info": {
   "codemirror_mode": {
    "name": "ipython",
    "version": 3
   },
   "file_extension": ".py",
   "mimetype": "text/x-python",
   "name": "python",
   "nbconvert_exporter": "python",
   "pygments_lexer": "ipython3",
   "version": "3.10.8"
  },
  "orig_nbformat": 4
 },
 "nbformat": 4,
 "nbformat_minor": 2
}
