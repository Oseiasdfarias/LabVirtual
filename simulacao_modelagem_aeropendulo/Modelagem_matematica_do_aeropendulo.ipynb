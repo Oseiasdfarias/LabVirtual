{
 "cells": [
  {
   "attachments": {},
   "cell_type": "markdown",
   "metadata": {},
   "source": [
    "# <center>Modelagem e Simulação do Aeropêndulo<center/>"
   ]
  },
  {
   "attachments": {},
   "cell_type": "markdown",
   "metadata": {},
   "source": [
    "<center>\n",
    "<div class=\"figure\" >\n",
    "  <img src=\"utils/aeropendulo.png\"\n",
    "       width=\"400\"> \n",
    "  <p>Figura 1 - Diagrama esquemático do Aeropêndulo.</p>\n",
    "</div>\n",
    "<center/>"
   ]
  },
  {
   "attachments": {},
   "cell_type": "markdown",
   "metadata": {},
   "source": [
    "Usando as leis de Newton e momentos angulares podemos encontrar o modelo matemático que descreve a dinâmica do aeropêndulo, assim, temos a equação $(1)$ que modela o sistema em questão."
   ]
  },
  {
   "attachments": {},
   "cell_type": "markdown",
   "metadata": {},
   "source": [
    "$$\n",
    "\\begin{align}\n",
    "    T &= J\\ddot{\\theta} + c\\dot{\\theta} +mgd\\sin{\\theta} \\tag{1}\\\\\n",
    "\\end{align}\n",
    "$$"
   ]
  },
  {
   "attachments": {},
   "cell_type": "markdown",
   "metadata": {},
   "source": [
    "Onde:\n",
    "\n",
    ">> + $T$: Empuxo gerado pela hélice;\n",
    ">> + $J$: Momento de inércia;\n",
    ">> + $\\theta$: posição angular do Aeropêndulo;\n",
    ">> + $c$: coeficiente de amortecimento viscoso;\n",
    ">> + $m$: peso do Aeropêndulo;\n",
    ">> + $d$: a distância entre o centro de massa e o ponto de pivô;"
   ]
  },
  {
   "attachments": {},
   "cell_type": "markdown",
   "metadata": {},
   "source": [
    "Linearizando o sistema"
   ]
  },
  {
   "attachments": {},
   "cell_type": "markdown",
   "metadata": {},
   "source": [
    "Uma das técnicas de linearização quando se tem sistemas não lineares que a componente não linear é o seno ou cosseno é  considerar o seno ou cosseno sendo o valor do próprio ângulo, isso funciona bem para pequenas variações em torno do ângulo, aplicando essa técnica ao modelo do aeropêndulo, temos a equação $(2)$.\n",
    "\n",
    "$$\n",
    "\\begin{align}\n",
    "    T &= J\\ddot{\\theta} + c\\dot{\\theta} +mgd\\theta \\tag{2}\\\\\n",
    "\\end{align}\n",
    "$$"
   ]
  },
  {
   "attachments": {},
   "cell_type": "markdown",
   "metadata": {},
   "source": [
    "Aplicando a transformada de Laplace, temos:\n",
    "\n",
    "$$\n",
    "\\begin{align}\n",
    "    T(s) &= s^2J\\theta(s) + sc\\theta(s) +mgd\\theta(s) \\tag{3}\\\\\n",
    "    T(s) &= (s^2J + sc +mgd)\\theta(s) \\tag{4}\\\\\n",
    "    \\frac{\\theta(s)}{T(s)} &= \\frac{1}{s^2J + sc +mgd} \\tag{5}\\\\\n",
    "    \\frac{\\theta(s)}{T(s)} &= \\frac{1/J}{s^2 + sc/J +mgd/J} \\tag{6}\\\\\n",
    "\\end{align}\n",
    "$$"
   ]
  },
  {
   "attachments": {},
   "cell_type": "markdown",
   "metadata": {},
   "source": [
    "Queremos controlar o ângulo do braço do aeropêndulo  a partir da tensão aplicada aos terminais do motor, assim,devemos encontrar uma relação entre a tensão $V$ nos terminais do motor e o empuxo $T$ gerado pela hélice, essa relação é não linear, porém é possível aproximar por uma relação linear, como mostra a expressão $(7)$.\n",
    "\n",
    "$$\n",
    "\\begin{align}\n",
    "    T &\\approx K_mV \\tag{7}\\\\\n",
    "\\end{align}\n",
    "$$\n",
    "\n",
    "Aplicando a transformada de Laplace, temos:\n",
    "\n",
    "$$\n",
    "\\begin{align}\n",
    "    T(s) &\\approx K_mV(s) \\tag{8}\\\\\n",
    "\\end{align}\n",
    "$$"
   ]
  },
  {
   "attachments": {},
   "cell_type": "markdown",
   "metadata": {},
   "source": [
    "Agora podemos substituir $(8)$ em $(6)$,\n",
    "\n",
    "$$\n",
    "\\begin{align}\n",
    "    \\frac{\\theta(s)}{K_mV(s)} &= \\frac{1/J}{s^2 + sc/J +mgd/J} \\tag{9}\\\\\n",
    "    \\frac{\\theta(s)}{V(s)} &= \\frac{K_m/J}{s^2 + sc/J +mgd/J} \\tag{10}\n",
    "\\end{align}\n",
    "$$"
   ]
  },
  {
   "attachments": {},
   "cell_type": "markdown",
   "metadata": {},
   "source": [
    "### Sistema no Espaço de Estados"
   ]
  },
  {
   "attachments": {},
   "cell_type": "markdown",
   "metadata": {},
   "source": [
    "##### Forma Canônica de Controlador"
   ]
  },
  {
   "attachments": {},
   "cell_type": "markdown",
   "metadata": {},
   "source": [
    "$$\n",
    "    x_1=\\theta \\quad x_2=\\dot{\\theta} \\quad x_2 = \\dot{x_1}\n",
    "$$\n",
    "\n",
    "\n",
    "$$\n",
    "\\begin{bmatrix}\n",
    "    \\dot{x}_1 \\\\\n",
    "    \\dot{x}_2\n",
    "\\end{bmatrix}=\n",
    "\\begin{bmatrix}\n",
    "    0             & 1\\\\\n",
    "    -\\frac{mgd}{J} & -\\frac{c}{J}\n",
    "\\end{bmatrix}\\cdot \n",
    "\\begin{bmatrix}\n",
    "    x_1 \\\\\n",
    "    x_2\n",
    "\\end{bmatrix}+\n",
    "\\begin{bmatrix}\n",
    "    0 \\\\\n",
    "    \\frac{K_m}{J}\n",
    "\\end{bmatrix}\\cdot u\n",
    "$$\n",
    "\n",
    "$$\n",
    "Y= \\begin{bmatrix}\n",
    "    1 & 0\n",
    "\\end{bmatrix} \\cdot\n",
    "\\begin{bmatrix}\n",
    "    0 \\\\\n",
    "    \\frac{K_m}{J}\n",
    "\\end{bmatrix} + 0\n",
    "$$"
   ]
  },
  {
   "attachments": {},
   "cell_type": "markdown",
   "metadata": {},
   "source": [
    "#### Parâmetros para Simulação\n",
    "\n",
    "Para simulação foi usado os parâmetros do $artigo[1]$."
   ]
  },
  {
   "attachments": {},
   "cell_type": "markdown",
   "metadata": {},
   "source": [
    "$$\n",
    "\\begin{array}{|c|c|} \\hline\n",
    "\\text { Parâmetros do Aeropêndulo } & \\text{Valores}      \\\\ \\hline\n",
    "K_m     &   0,0296                                        \\\\ \\hline\n",
    "d       &   0,03m                                         \\\\ \\hline\n",
    "J       &   0,0106 Kgm^2                                  \\\\ \\hline\n",
    "m       &   0,36 m                                  \\\\ \\hline\n",
    "g       &   9,8 m/s^2                                     \\\\ \\hline\n",
    "c       &   0,0076 Nms/rad                                \\\\ \\hline\n",
    "\\end{array}\n",
    "$$"
   ]
  },
  {
   "attachments": {},
   "cell_type": "markdown",
   "metadata": {},
   "source": [
    "### Simulação usando Python"
   ]
  },
  {
   "cell_type": "code",
   "execution_count": 1,
   "metadata": {},
   "outputs": [],
   "source": [
    "import numpy as np\n",
    "import matplotlib.pyplot as plt\n",
    "import control as ct\n",
    "\n",
    "plt.style.use(\"ggplot\")\n",
    "\n",
    "%config InlineBackend.figure_format = \"svg\""
   ]
  },
  {
   "attachments": {},
   "cell_type": "markdown",
   "metadata": {},
   "source": [
    "Parâmetros"
   ]
  },
  {
   "cell_type": "code",
   "execution_count": 2,
   "metadata": {},
   "outputs": [],
   "source": [
    "K_m = 0.0296\n",
    "m = 0.36\n",
    "d = 0.03\n",
    "J = 0.0106\n",
    "g = 9.8\n",
    "c = 0.0076"
   ]
  },
  {
   "attachments": {},
   "cell_type": "markdown",
   "metadata": {},
   "source": [
    "Matrizes do sistema no espaço de estados"
   ]
  },
  {
   "cell_type": "code",
   "execution_count": 3,
   "metadata": {},
   "outputs": [],
   "source": [
    "A = np.array([[0, 1],\n",
    "              [-(m*g*d)/J, -(c/J)]])\n",
    "\n",
    "B = np.array([[0, K_m/J]]).T\n",
    "\n",
    "C = np.array([1, 0])\n",
    "\n",
    "D = 0\n"
   ]
  },
  {
   "attachments": {},
   "cell_type": "markdown",
   "metadata": {},
   "source": [
    "### Sistema no Espaço de Estados"
   ]
  },
  {
   "cell_type": "code",
   "execution_count": 4,
   "metadata": {},
   "outputs": [
    {
     "name": "stdout",
     "output_type": "stream",
     "text": [
      "<LinearIOSystem>: sys[2]\n",
      "Inputs (1): ['u[0]']\n",
      "Outputs (1): ['y[0]']\n",
      "States (2): ['x[0]', 'x[1]']\n",
      "\n",
      "A = [[ 0.          1.        ]\n",
      "     [-9.98490566 -0.71698113]]\n",
      "\n",
      "B = [[0.        ]\n",
      "     [2.79245283]]\n",
      "\n",
      "C = [[1. 0.]]\n",
      "\n",
      "D = [[0.]]\n",
      "\n"
     ]
    }
   ],
   "source": [
    "sys = ct.ss(A, B, C, D)\n",
    "print(sys)"
   ]
  },
  {
   "cell_type": "markdown",
   "metadata": {},
   "source": [
    "Função de Transferência a partir do espaço de estados"
   ]
  },
  {
   "cell_type": "code",
   "execution_count": 5,
   "metadata": {},
   "outputs": [
    {
     "data": {
      "text/latex": [
       "$$\\frac{2.792}{s^2 + 0.717 s + 9.985}$$"
      ],
      "text/plain": [
       "TransferFunction(array([2.79245283]), array([1.        , 0.71698113, 9.98490566]))"
      ]
     },
     "execution_count": 5,
     "metadata": {},
     "output_type": "execute_result"
    }
   ],
   "source": [
    "Gs = ct.ss2tf(sys)\n",
    "Gs"
   ]
  },
  {
   "attachments": {},
   "cell_type": "markdown",
   "metadata": {},
   "source": [
    "Informações do sistema em malha aberta"
   ]
  },
  {
   "cell_type": "code",
   "execution_count": 6,
   "metadata": {},
   "outputs": [
    {
     "data": {
      "text/plain": [
       "{'RiseTime': 0.396481513738416,\n",
       " 'SettlingTime': 10.308519357198815,\n",
       " 'SettlingMin': 0.14343794449344063,\n",
       " 'SettlingMax': 0.47415111647086844,\n",
       " 'Overshoot': 69.54106137593485,\n",
       " 'Undershoot': 0,\n",
       " 'Peak': 0.47415111647086844,\n",
       " 'PeakTime': 1.0308519357198815,\n",
       " 'SteadyStateValue': 0.2796674225245654}"
      ]
     },
     "execution_count": 6,
     "metadata": {},
     "output_type": "execute_result"
    }
   ],
   "source": [
    "ct.step_info(sys)"
   ]
  },
  {
   "cell_type": "code",
   "execution_count": 7,
   "metadata": {},
   "outputs": [
    {
     "name": "stdout",
     "output_type": "stream",
     "text": [
      "_____Eigenvalue______ Damping___ Frequency_\n",
      "   -0.3585    +3.139j     0.1135       3.16\n",
      "   -0.3585    -3.139j     0.1135       3.16\n"
     ]
    }
   ],
   "source": [
    "ct.damp(sys);"
   ]
  },
  {
   "cell_type": "code",
   "execution_count": 8,
   "metadata": {},
   "outputs": [
    {
     "data": {
      "text/plain": [
       "array([-0.35849057+3.13948884j, -0.35849057-3.13948884j])"
      ]
     },
     "execution_count": 8,
     "metadata": {},
     "output_type": "execute_result"
    }
   ],
   "source": [
    "ct.poles(sys)"
   ]
  },
  {
   "cell_type": "code",
   "execution_count": 9,
   "metadata": {},
   "outputs": [
    {
     "data": {
      "text/plain": [
       "array([], dtype=float64)"
      ]
     },
     "execution_count": 9,
     "metadata": {},
     "output_type": "execute_result"
    }
   ],
   "source": [
    "ct.zeros(sys)"
   ]
  },
  {
   "attachments": {},
   "cell_type": "markdown",
   "metadata": {},
   "source": [
    "Resposta ao Degrau Unitário"
   ]
  },
  {
   "cell_type": "code",
   "execution_count": 11,
   "metadata": {},
   "outputs": [
    {
     "data": {
      "image/svg+xml": "<?xml version=\"1.0\" encoding=\"utf-8\" standalone=\"no\"?>\n<!DOCTYPE svg PUBLIC \"-//W3C//DTD SVG 1.1//EN\"\n  \"http://www.w3.org/Graphics/SVG/1.1/DTD/svg11.dtd\">\n<svg xmlns:xlink=\"http://www.w3.org/1999/xlink\" width=\"439.714016pt\" height=\"275.675625pt\" viewBox=\"0 0 439.714016 275.675625\" xmlns=\"http://www.w3.org/2000/svg\" version=\"1.1\">\n <metadata>\n  <rdf:RDF xmlns:dc=\"http://purl.org/dc/elements/1.1/\" xmlns:cc=\"http://creativecommons.org/ns#\" xmlns:rdf=\"http://www.w3.org/1999/02/22-rdf-syntax-ns#\">\n   <cc:Work>\n    <dc:type rdf:resource=\"http://purl.org/dc/dcmitype/StillImage\"/>\n    <dc:date>2023-03-20T17:16:40.411021</dc:date>\n    <dc:format>image/svg+xml</dc:format>\n    <dc:creator>\n     <cc:Agent>\n      <dc:title>Matplotlib v3.7.1, https://matplotlib.org/</dc:title>\n     </cc:Agent>\n    </dc:creator>\n   </cc:Work>\n  </rdf:RDF>\n </metadata>\n <defs>\n  <style type=\"text/css\">*{stroke-linejoin: round; stroke-linecap: butt}</style>\n </defs>\n <g id=\"figure_1\">\n  <g id=\"patch_1\">\n   <path d=\"M 0 275.675625 \nL 439.714016 275.675625 \nL 439.714016 0 \nL 0 0 \nz\n\" style=\"fill: #ffffff\"/>\n  </g>\n  <g id=\"axes_1\">\n   <g id=\"patch_2\">\n    <path d=\"M 38.404688 242.958438 \nL 429.004688 242.958438 \nL 429.004688 21.198438 \nL 38.404688 21.198438 \nz\n\" style=\"fill: #e5e5e5\"/>\n   </g>\n   <g id=\"matplotlib.axis_1\">\n    <g id=\"xtick_1\">\n     <g id=\"line2d_1\">\n      <path d=\"M 56.159233 242.958438 \nL 56.159233 21.198438 \n\" clip-path=\"url(#p008e2690be)\" style=\"fill: none; stroke: #ffffff; stroke-width: 0.8; stroke-linecap: square\"/>\n     </g>\n     <g id=\"line2d_2\">\n      <defs>\n       <path id=\"mea4b9b7fdb\" d=\"M 0 0 \nL 0 3.5 \n\" style=\"stroke: #555555; stroke-width: 0.8\"/>\n      </defs>\n      <g>\n       <use xlink:href=\"#mea4b9b7fdb\" x=\"56.159233\" y=\"242.958438\" style=\"fill: #555555; stroke: #555555; stroke-width: 0.8\"/>\n      </g>\n     </g>\n     <g id=\"text_1\">\n      <!-- 0.0 -->\n      <g style=\"fill: #555555\" transform=\"translate(50.593139 255.277344) scale(0.07 -0.07)\">\n       <defs>\n        <path id=\"DejaVuSans-30\" d=\"M 2034 4250 \nQ 1547 4250 1301 3770 \nQ 1056 3291 1056 2328 \nQ 1056 1369 1301 889 \nQ 1547 409 2034 409 \nQ 2525 409 2770 889 \nQ 3016 1369 3016 2328 \nQ 3016 3291 2770 3770 \nQ 2525 4250 2034 4250 \nz\nM 2034 4750 \nQ 2819 4750 3233 4129 \nQ 3647 3509 3647 2328 \nQ 3647 1150 3233 529 \nQ 2819 -91 2034 -91 \nQ 1250 -91 836 529 \nQ 422 1150 422 2328 \nQ 422 3509 836 4129 \nQ 1250 4750 2034 4750 \nz\n\" transform=\"scale(0.015625)\"/>\n        <path id=\"DejaVuSans-2e\" d=\"M 684 794 \nL 1344 794 \nL 1344 0 \nL 684 0 \nL 684 794 \nz\n\" transform=\"scale(0.015625)\"/>\n       </defs>\n       <use xlink:href=\"#DejaVuSans-30\"/>\n       <use xlink:href=\"#DejaVuSans-2e\" x=\"63.623047\"/>\n       <use xlink:href=\"#DejaVuSans-30\" x=\"95.410156\"/>\n      </g>\n     </g>\n    </g>\n    <g id=\"xtick_2\">\n     <g id=\"line2d_3\">\n      <path d=\"M 102.22946 242.958438 \nL 102.22946 21.198438 \n\" clip-path=\"url(#p008e2690be)\" style=\"fill: none; stroke: #ffffff; stroke-width: 0.8; stroke-linecap: square\"/>\n     </g>\n     <g id=\"line2d_4\">\n      <g>\n       <use xlink:href=\"#mea4b9b7fdb\" x=\"102.22946\" y=\"242.958438\" style=\"fill: #555555; stroke: #555555; stroke-width: 0.8\"/>\n      </g>\n     </g>\n     <g id=\"text_2\">\n      <!-- 2.5 -->\n      <g style=\"fill: #555555\" transform=\"translate(96.663366 255.277344) scale(0.07 -0.07)\">\n       <defs>\n        <path id=\"DejaVuSans-32\" d=\"M 1228 531 \nL 3431 531 \nL 3431 0 \nL 469 0 \nL 469 531 \nQ 828 903 1448 1529 \nQ 2069 2156 2228 2338 \nQ 2531 2678 2651 2914 \nQ 2772 3150 2772 3378 \nQ 2772 3750 2511 3984 \nQ 2250 4219 1831 4219 \nQ 1534 4219 1204 4116 \nQ 875 4013 500 3803 \nL 500 4441 \nQ 881 4594 1212 4672 \nQ 1544 4750 1819 4750 \nQ 2544 4750 2975 4387 \nQ 3406 4025 3406 3419 \nQ 3406 3131 3298 2873 \nQ 3191 2616 2906 2266 \nQ 2828 2175 2409 1742 \nQ 1991 1309 1228 531 \nz\n\" transform=\"scale(0.015625)\"/>\n        <path id=\"DejaVuSans-35\" d=\"M 691 4666 \nL 3169 4666 \nL 3169 4134 \nL 1269 4134 \nL 1269 2991 \nQ 1406 3038 1543 3061 \nQ 1681 3084 1819 3084 \nQ 2600 3084 3056 2656 \nQ 3513 2228 3513 1497 \nQ 3513 744 3044 326 \nQ 2575 -91 1722 -91 \nQ 1428 -91 1123 -41 \nQ 819 9 494 109 \nL 494 744 \nQ 775 591 1075 516 \nQ 1375 441 1709 441 \nQ 2250 441 2565 725 \nQ 2881 1009 2881 1497 \nQ 2881 1984 2565 2268 \nQ 2250 2553 1709 2553 \nQ 1456 2553 1204 2497 \nQ 953 2441 691 2322 \nL 691 4666 \nz\n\" transform=\"scale(0.015625)\"/>\n       </defs>\n       <use xlink:href=\"#DejaVuSans-32\"/>\n       <use xlink:href=\"#DejaVuSans-2e\" x=\"63.623047\"/>\n       <use xlink:href=\"#DejaVuSans-35\" x=\"95.410156\"/>\n      </g>\n     </g>\n    </g>\n    <g id=\"xtick_3\">\n     <g id=\"line2d_5\">\n      <path d=\"M 148.299687 242.958438 \nL 148.299687 21.198438 \n\" clip-path=\"url(#p008e2690be)\" style=\"fill: none; stroke: #ffffff; stroke-width: 0.8; stroke-linecap: square\"/>\n     </g>\n     <g id=\"line2d_6\">\n      <g>\n       <use xlink:href=\"#mea4b9b7fdb\" x=\"148.299687\" y=\"242.958438\" style=\"fill: #555555; stroke: #555555; stroke-width: 0.8\"/>\n      </g>\n     </g>\n     <g id=\"text_3\">\n      <!-- 5.0 -->\n      <g style=\"fill: #555555\" transform=\"translate(142.733593 255.277344) scale(0.07 -0.07)\">\n       <use xlink:href=\"#DejaVuSans-35\"/>\n       <use xlink:href=\"#DejaVuSans-2e\" x=\"63.623047\"/>\n       <use xlink:href=\"#DejaVuSans-30\" x=\"95.410156\"/>\n      </g>\n     </g>\n    </g>\n    <g id=\"xtick_4\">\n     <g id=\"line2d_7\">\n      <path d=\"M 194.369913 242.958438 \nL 194.369913 21.198438 \n\" clip-path=\"url(#p008e2690be)\" style=\"fill: none; stroke: #ffffff; stroke-width: 0.8; stroke-linecap: square\"/>\n     </g>\n     <g id=\"line2d_8\">\n      <g>\n       <use xlink:href=\"#mea4b9b7fdb\" x=\"194.369913\" y=\"242.958438\" style=\"fill: #555555; stroke: #555555; stroke-width: 0.8\"/>\n      </g>\n     </g>\n     <g id=\"text_4\">\n      <!-- 7.5 -->\n      <g style=\"fill: #555555\" transform=\"translate(188.80382 255.277344) scale(0.07 -0.07)\">\n       <defs>\n        <path id=\"DejaVuSans-37\" d=\"M 525 4666 \nL 3525 4666 \nL 3525 4397 \nL 1831 0 \nL 1172 0 \nL 2766 4134 \nL 525 4134 \nL 525 4666 \nz\n\" transform=\"scale(0.015625)\"/>\n       </defs>\n       <use xlink:href=\"#DejaVuSans-37\"/>\n       <use xlink:href=\"#DejaVuSans-2e\" x=\"63.623047\"/>\n       <use xlink:href=\"#DejaVuSans-35\" x=\"95.410156\"/>\n      </g>\n     </g>\n    </g>\n    <g id=\"xtick_5\">\n     <g id=\"line2d_9\">\n      <path d=\"M 240.44014 242.958438 \nL 240.44014 21.198438 \n\" clip-path=\"url(#p008e2690be)\" style=\"fill: none; stroke: #ffffff; stroke-width: 0.8; stroke-linecap: square\"/>\n     </g>\n     <g id=\"line2d_10\">\n      <g>\n       <use xlink:href=\"#mea4b9b7fdb\" x=\"240.44014\" y=\"242.958438\" style=\"fill: #555555; stroke: #555555; stroke-width: 0.8\"/>\n      </g>\n     </g>\n     <g id=\"text_5\">\n      <!-- 10.0 -->\n      <g style=\"fill: #555555\" transform=\"translate(232.647171 255.277344) scale(0.07 -0.07)\">\n       <defs>\n        <path id=\"DejaVuSans-31\" d=\"M 794 531 \nL 1825 531 \nL 1825 4091 \nL 703 3866 \nL 703 4441 \nL 1819 4666 \nL 2450 4666 \nL 2450 531 \nL 3481 531 \nL 3481 0 \nL 794 0 \nL 794 531 \nz\n\" transform=\"scale(0.015625)\"/>\n       </defs>\n       <use xlink:href=\"#DejaVuSans-31\"/>\n       <use xlink:href=\"#DejaVuSans-30\" x=\"63.623047\"/>\n       <use xlink:href=\"#DejaVuSans-2e\" x=\"127.246094\"/>\n       <use xlink:href=\"#DejaVuSans-30\" x=\"159.033203\"/>\n      </g>\n     </g>\n    </g>\n    <g id=\"xtick_6\">\n     <g id=\"line2d_11\">\n      <path d=\"M 286.510367 242.958438 \nL 286.510367 21.198438 \n\" clip-path=\"url(#p008e2690be)\" style=\"fill: none; stroke: #ffffff; stroke-width: 0.8; stroke-linecap: square\"/>\n     </g>\n     <g id=\"line2d_12\">\n      <g>\n       <use xlink:href=\"#mea4b9b7fdb\" x=\"286.510367\" y=\"242.958438\" style=\"fill: #555555; stroke: #555555; stroke-width: 0.8\"/>\n      </g>\n     </g>\n     <g id=\"text_6\">\n      <!-- 12.5 -->\n      <g style=\"fill: #555555\" transform=\"translate(278.717398 255.277344) scale(0.07 -0.07)\">\n       <use xlink:href=\"#DejaVuSans-31\"/>\n       <use xlink:href=\"#DejaVuSans-32\" x=\"63.623047\"/>\n       <use xlink:href=\"#DejaVuSans-2e\" x=\"127.246094\"/>\n       <use xlink:href=\"#DejaVuSans-35\" x=\"159.033203\"/>\n      </g>\n     </g>\n    </g>\n    <g id=\"xtick_7\">\n     <g id=\"line2d_13\">\n      <path d=\"M 332.580594 242.958438 \nL 332.580594 21.198438 \n\" clip-path=\"url(#p008e2690be)\" style=\"fill: none; stroke: #ffffff; stroke-width: 0.8; stroke-linecap: square\"/>\n     </g>\n     <g id=\"line2d_14\">\n      <g>\n       <use xlink:href=\"#mea4b9b7fdb\" x=\"332.580594\" y=\"242.958438\" style=\"fill: #555555; stroke: #555555; stroke-width: 0.8\"/>\n      </g>\n     </g>\n     <g id=\"text_7\">\n      <!-- 15.0 -->\n      <g style=\"fill: #555555\" transform=\"translate(324.787625 255.277344) scale(0.07 -0.07)\">\n       <use xlink:href=\"#DejaVuSans-31\"/>\n       <use xlink:href=\"#DejaVuSans-35\" x=\"63.623047\"/>\n       <use xlink:href=\"#DejaVuSans-2e\" x=\"127.246094\"/>\n       <use xlink:href=\"#DejaVuSans-30\" x=\"159.033203\"/>\n      </g>\n     </g>\n    </g>\n    <g id=\"xtick_8\">\n     <g id=\"line2d_15\">\n      <path d=\"M 378.650821 242.958438 \nL 378.650821 21.198438 \n\" clip-path=\"url(#p008e2690be)\" style=\"fill: none; stroke: #ffffff; stroke-width: 0.8; stroke-linecap: square\"/>\n     </g>\n     <g id=\"line2d_16\">\n      <g>\n       <use xlink:href=\"#mea4b9b7fdb\" x=\"378.650821\" y=\"242.958438\" style=\"fill: #555555; stroke: #555555; stroke-width: 0.8\"/>\n      </g>\n     </g>\n     <g id=\"text_8\">\n      <!-- 17.5 -->\n      <g style=\"fill: #555555\" transform=\"translate(370.857852 255.277344) scale(0.07 -0.07)\">\n       <use xlink:href=\"#DejaVuSans-31\"/>\n       <use xlink:href=\"#DejaVuSans-37\" x=\"63.623047\"/>\n       <use xlink:href=\"#DejaVuSans-2e\" x=\"127.246094\"/>\n       <use xlink:href=\"#DejaVuSans-35\" x=\"159.033203\"/>\n      </g>\n     </g>\n    </g>\n    <g id=\"xtick_9\">\n     <g id=\"line2d_17\">\n      <path d=\"M 424.721047 242.958438 \nL 424.721047 21.198438 \n\" clip-path=\"url(#p008e2690be)\" style=\"fill: none; stroke: #ffffff; stroke-width: 0.8; stroke-linecap: square\"/>\n     </g>\n     <g id=\"line2d_18\">\n      <g>\n       <use xlink:href=\"#mea4b9b7fdb\" x=\"424.721047\" y=\"242.958438\" style=\"fill: #555555; stroke: #555555; stroke-width: 0.8\"/>\n      </g>\n     </g>\n     <g id=\"text_9\">\n      <!-- 20.0 -->\n      <g style=\"fill: #555555\" transform=\"translate(416.928079 255.277344) scale(0.07 -0.07)\">\n       <use xlink:href=\"#DejaVuSans-32\"/>\n       <use xlink:href=\"#DejaVuSans-30\" x=\"63.623047\"/>\n       <use xlink:href=\"#DejaVuSans-2e\" x=\"127.246094\"/>\n       <use xlink:href=\"#DejaVuSans-30\" x=\"159.033203\"/>\n      </g>\n     </g>\n    </g>\n    <g id=\"text_10\">\n     <!-- Tempo (s) -->\n     <g style=\"fill: #555555\" transform=\"translate(214.120937 266.811875) scale(0.08 -0.08)\">\n      <defs>\n       <path id=\"DejaVuSans-54\" d=\"M -19 4666 \nL 3928 4666 \nL 3928 4134 \nL 2272 4134 \nL 2272 0 \nL 1638 0 \nL 1638 4134 \nL -19 4134 \nL -19 4666 \nz\n\" transform=\"scale(0.015625)\"/>\n       <path id=\"DejaVuSans-65\" d=\"M 3597 1894 \nL 3597 1613 \nL 953 1613 \nQ 991 1019 1311 708 \nQ 1631 397 2203 397 \nQ 2534 397 2845 478 \nQ 3156 559 3463 722 \nL 3463 178 \nQ 3153 47 2828 -22 \nQ 2503 -91 2169 -91 \nQ 1331 -91 842 396 \nQ 353 884 353 1716 \nQ 353 2575 817 3079 \nQ 1281 3584 2069 3584 \nQ 2775 3584 3186 3129 \nQ 3597 2675 3597 1894 \nz\nM 3022 2063 \nQ 3016 2534 2758 2815 \nQ 2500 3097 2075 3097 \nQ 1594 3097 1305 2825 \nQ 1016 2553 972 2059 \nL 3022 2063 \nz\n\" transform=\"scale(0.015625)\"/>\n       <path id=\"DejaVuSans-6d\" d=\"M 3328 2828 \nQ 3544 3216 3844 3400 \nQ 4144 3584 4550 3584 \nQ 5097 3584 5394 3201 \nQ 5691 2819 5691 2113 \nL 5691 0 \nL 5113 0 \nL 5113 2094 \nQ 5113 2597 4934 2840 \nQ 4756 3084 4391 3084 \nQ 3944 3084 3684 2787 \nQ 3425 2491 3425 1978 \nL 3425 0 \nL 2847 0 \nL 2847 2094 \nQ 2847 2600 2669 2842 \nQ 2491 3084 2119 3084 \nQ 1678 3084 1418 2786 \nQ 1159 2488 1159 1978 \nL 1159 0 \nL 581 0 \nL 581 3500 \nL 1159 3500 \nL 1159 2956 \nQ 1356 3278 1631 3431 \nQ 1906 3584 2284 3584 \nQ 2666 3584 2933 3390 \nQ 3200 3197 3328 2828 \nz\n\" transform=\"scale(0.015625)\"/>\n       <path id=\"DejaVuSans-70\" d=\"M 1159 525 \nL 1159 -1331 \nL 581 -1331 \nL 581 3500 \nL 1159 3500 \nL 1159 2969 \nQ 1341 3281 1617 3432 \nQ 1894 3584 2278 3584 \nQ 2916 3584 3314 3078 \nQ 3713 2572 3713 1747 \nQ 3713 922 3314 415 \nQ 2916 -91 2278 -91 \nQ 1894 -91 1617 61 \nQ 1341 213 1159 525 \nz\nM 3116 1747 \nQ 3116 2381 2855 2742 \nQ 2594 3103 2138 3103 \nQ 1681 3103 1420 2742 \nQ 1159 2381 1159 1747 \nQ 1159 1113 1420 752 \nQ 1681 391 2138 391 \nQ 2594 391 2855 752 \nQ 3116 1113 3116 1747 \nz\n\" transform=\"scale(0.015625)\"/>\n       <path id=\"DejaVuSans-6f\" d=\"M 1959 3097 \nQ 1497 3097 1228 2736 \nQ 959 2375 959 1747 \nQ 959 1119 1226 758 \nQ 1494 397 1959 397 \nQ 2419 397 2687 759 \nQ 2956 1122 2956 1747 \nQ 2956 2369 2687 2733 \nQ 2419 3097 1959 3097 \nz\nM 1959 3584 \nQ 2709 3584 3137 3096 \nQ 3566 2609 3566 1747 \nQ 3566 888 3137 398 \nQ 2709 -91 1959 -91 \nQ 1206 -91 779 398 \nQ 353 888 353 1747 \nQ 353 2609 779 3096 \nQ 1206 3584 1959 3584 \nz\n\" transform=\"scale(0.015625)\"/>\n       <path id=\"DejaVuSans-20\" transform=\"scale(0.015625)\"/>\n       <path id=\"DejaVuSans-28\" d=\"M 1984 4856 \nQ 1566 4138 1362 3434 \nQ 1159 2731 1159 2009 \nQ 1159 1288 1364 580 \nQ 1569 -128 1984 -844 \nL 1484 -844 \nQ 1016 -109 783 600 \nQ 550 1309 550 2009 \nQ 550 2706 781 3412 \nQ 1013 4119 1484 4856 \nL 1984 4856 \nz\n\" transform=\"scale(0.015625)\"/>\n       <path id=\"DejaVuSans-73\" d=\"M 2834 3397 \nL 2834 2853 \nQ 2591 2978 2328 3040 \nQ 2066 3103 1784 3103 \nQ 1356 3103 1142 2972 \nQ 928 2841 928 2578 \nQ 928 2378 1081 2264 \nQ 1234 2150 1697 2047 \nL 1894 2003 \nQ 2506 1872 2764 1633 \nQ 3022 1394 3022 966 \nQ 3022 478 2636 193 \nQ 2250 -91 1575 -91 \nQ 1294 -91 989 -36 \nQ 684 19 347 128 \nL 347 722 \nQ 666 556 975 473 \nQ 1284 391 1588 391 \nQ 1994 391 2212 530 \nQ 2431 669 2431 922 \nQ 2431 1156 2273 1281 \nQ 2116 1406 1581 1522 \nL 1381 1569 \nQ 847 1681 609 1914 \nQ 372 2147 372 2553 \nQ 372 3047 722 3315 \nQ 1072 3584 1716 3584 \nQ 2034 3584 2315 3537 \nQ 2597 3491 2834 3397 \nz\n\" transform=\"scale(0.015625)\"/>\n       <path id=\"DejaVuSans-29\" d=\"M 513 4856 \nL 1013 4856 \nQ 1481 4119 1714 3412 \nQ 1947 2706 1947 2009 \nQ 1947 1309 1714 600 \nQ 1481 -109 1013 -844 \nL 513 -844 \nQ 928 -128 1133 580 \nQ 1338 1288 1338 2009 \nQ 1338 2731 1133 3434 \nQ 928 4138 513 4856 \nz\n\" transform=\"scale(0.015625)\"/>\n      </defs>\n      <use xlink:href=\"#DejaVuSans-54\"/>\n      <use xlink:href=\"#DejaVuSans-65\" x=\"44.083984\"/>\n      <use xlink:href=\"#DejaVuSans-6d\" x=\"105.607422\"/>\n      <use xlink:href=\"#DejaVuSans-70\" x=\"203.019531\"/>\n      <use xlink:href=\"#DejaVuSans-6f\" x=\"266.496094\"/>\n      <use xlink:href=\"#DejaVuSans-20\" x=\"327.677734\"/>\n      <use xlink:href=\"#DejaVuSans-28\" x=\"359.464844\"/>\n      <use xlink:href=\"#DejaVuSans-73\" x=\"398.478516\"/>\n      <use xlink:href=\"#DejaVuSans-29\" x=\"450.578125\"/>\n     </g>\n    </g>\n   </g>\n   <g id=\"matplotlib.axis_2\">\n    <g id=\"ytick_1\">\n     <g id=\"line2d_19\">\n      <path d=\"M 38.404688 232.878438 \nL 429.004688 232.878438 \n\" clip-path=\"url(#p008e2690be)\" style=\"fill: none; stroke: #ffffff; stroke-width: 0.8; stroke-linecap: square\"/>\n     </g>\n     <g id=\"line2d_20\">\n      <defs>\n       <path id=\"m487958e421\" d=\"M 0 0 \nL -3.5 0 \n\" style=\"stroke: #555555; stroke-width: 0.8\"/>\n      </defs>\n      <g>\n       <use xlink:href=\"#m487958e421\" x=\"38.404688\" y=\"232.878438\" style=\"fill: #555555; stroke: #555555; stroke-width: 0.8\"/>\n      </g>\n     </g>\n     <g id=\"text_11\">\n      <!-- 0.0 -->\n      <g style=\"fill: #555555\" transform=\"translate(20.2725 235.537891) scale(0.07 -0.07)\">\n       <use xlink:href=\"#DejaVuSans-30\"/>\n       <use xlink:href=\"#DejaVuSans-2e\" x=\"63.623047\"/>\n       <use xlink:href=\"#DejaVuSans-30\" x=\"95.410156\"/>\n      </g>\n     </g>\n    </g>\n    <g id=\"ytick_2\">\n     <g id=\"line2d_21\">\n      <path d=\"M 38.404688 192.558438 \nL 429.004688 192.558438 \n\" clip-path=\"url(#p008e2690be)\" style=\"fill: none; stroke: #ffffff; stroke-width: 0.8; stroke-linecap: square\"/>\n     </g>\n     <g id=\"line2d_22\">\n      <g>\n       <use xlink:href=\"#m487958e421\" x=\"38.404688\" y=\"192.558438\" style=\"fill: #555555; stroke: #555555; stroke-width: 0.8\"/>\n      </g>\n     </g>\n     <g id=\"text_12\">\n      <!-- 0.2 -->\n      <g style=\"fill: #555555\" transform=\"translate(20.2725 195.217891) scale(0.07 -0.07)\">\n       <use xlink:href=\"#DejaVuSans-30\"/>\n       <use xlink:href=\"#DejaVuSans-2e\" x=\"63.623047\"/>\n       <use xlink:href=\"#DejaVuSans-32\" x=\"95.410156\"/>\n      </g>\n     </g>\n    </g>\n    <g id=\"ytick_3\">\n     <g id=\"line2d_23\">\n      <path d=\"M 38.404688 152.238437 \nL 429.004688 152.238437 \n\" clip-path=\"url(#p008e2690be)\" style=\"fill: none; stroke: #ffffff; stroke-width: 0.8; stroke-linecap: square\"/>\n     </g>\n     <g id=\"line2d_24\">\n      <g>\n       <use xlink:href=\"#m487958e421\" x=\"38.404688\" y=\"152.238437\" style=\"fill: #555555; stroke: #555555; stroke-width: 0.8\"/>\n      </g>\n     </g>\n     <g id=\"text_13\">\n      <!-- 0.4 -->\n      <g style=\"fill: #555555\" transform=\"translate(20.2725 154.897891) scale(0.07 -0.07)\">\n       <defs>\n        <path id=\"DejaVuSans-34\" d=\"M 2419 4116 \nL 825 1625 \nL 2419 1625 \nL 2419 4116 \nz\nM 2253 4666 \nL 3047 4666 \nL 3047 1625 \nL 3713 1625 \nL 3713 1100 \nL 3047 1100 \nL 3047 0 \nL 2419 0 \nL 2419 1100 \nL 313 1100 \nL 313 1709 \nL 2253 4666 \nz\n\" transform=\"scale(0.015625)\"/>\n       </defs>\n       <use xlink:href=\"#DejaVuSans-30\"/>\n       <use xlink:href=\"#DejaVuSans-2e\" x=\"63.623047\"/>\n       <use xlink:href=\"#DejaVuSans-34\" x=\"95.410156\"/>\n      </g>\n     </g>\n    </g>\n    <g id=\"ytick_4\">\n     <g id=\"line2d_25\">\n      <path d=\"M 38.404688 111.918437 \nL 429.004688 111.918437 \n\" clip-path=\"url(#p008e2690be)\" style=\"fill: none; stroke: #ffffff; stroke-width: 0.8; stroke-linecap: square\"/>\n     </g>\n     <g id=\"line2d_26\">\n      <g>\n       <use xlink:href=\"#m487958e421\" x=\"38.404688\" y=\"111.918437\" style=\"fill: #555555; stroke: #555555; stroke-width: 0.8\"/>\n      </g>\n     </g>\n     <g id=\"text_14\">\n      <!-- 0.6 -->\n      <g style=\"fill: #555555\" transform=\"translate(20.2725 114.577891) scale(0.07 -0.07)\">\n       <defs>\n        <path id=\"DejaVuSans-36\" d=\"M 2113 2584 \nQ 1688 2584 1439 2293 \nQ 1191 2003 1191 1497 \nQ 1191 994 1439 701 \nQ 1688 409 2113 409 \nQ 2538 409 2786 701 \nQ 3034 994 3034 1497 \nQ 3034 2003 2786 2293 \nQ 2538 2584 2113 2584 \nz\nM 3366 4563 \nL 3366 3988 \nQ 3128 4100 2886 4159 \nQ 2644 4219 2406 4219 \nQ 1781 4219 1451 3797 \nQ 1122 3375 1075 2522 \nQ 1259 2794 1537 2939 \nQ 1816 3084 2150 3084 \nQ 2853 3084 3261 2657 \nQ 3669 2231 3669 1497 \nQ 3669 778 3244 343 \nQ 2819 -91 2113 -91 \nQ 1303 -91 875 529 \nQ 447 1150 447 2328 \nQ 447 3434 972 4092 \nQ 1497 4750 2381 4750 \nQ 2619 4750 2861 4703 \nQ 3103 4656 3366 4563 \nz\n\" transform=\"scale(0.015625)\"/>\n       </defs>\n       <use xlink:href=\"#DejaVuSans-30\"/>\n       <use xlink:href=\"#DejaVuSans-2e\" x=\"63.623047\"/>\n       <use xlink:href=\"#DejaVuSans-36\" x=\"95.410156\"/>\n      </g>\n     </g>\n    </g>\n    <g id=\"ytick_5\">\n     <g id=\"line2d_27\">\n      <path d=\"M 38.404688 71.598437 \nL 429.004688 71.598437 \n\" clip-path=\"url(#p008e2690be)\" style=\"fill: none; stroke: #ffffff; stroke-width: 0.8; stroke-linecap: square\"/>\n     </g>\n     <g id=\"line2d_28\">\n      <g>\n       <use xlink:href=\"#m487958e421\" x=\"38.404688\" y=\"71.598437\" style=\"fill: #555555; stroke: #555555; stroke-width: 0.8\"/>\n      </g>\n     </g>\n     <g id=\"text_15\">\n      <!-- 0.8 -->\n      <g style=\"fill: #555555\" transform=\"translate(20.2725 74.257891) scale(0.07 -0.07)\">\n       <defs>\n        <path id=\"DejaVuSans-38\" d=\"M 2034 2216 \nQ 1584 2216 1326 1975 \nQ 1069 1734 1069 1313 \nQ 1069 891 1326 650 \nQ 1584 409 2034 409 \nQ 2484 409 2743 651 \nQ 3003 894 3003 1313 \nQ 3003 1734 2745 1975 \nQ 2488 2216 2034 2216 \nz\nM 1403 2484 \nQ 997 2584 770 2862 \nQ 544 3141 544 3541 \nQ 544 4100 942 4425 \nQ 1341 4750 2034 4750 \nQ 2731 4750 3128 4425 \nQ 3525 4100 3525 3541 \nQ 3525 3141 3298 2862 \nQ 3072 2584 2669 2484 \nQ 3125 2378 3379 2068 \nQ 3634 1759 3634 1313 \nQ 3634 634 3220 271 \nQ 2806 -91 2034 -91 \nQ 1263 -91 848 271 \nQ 434 634 434 1313 \nQ 434 1759 690 2068 \nQ 947 2378 1403 2484 \nz\nM 1172 3481 \nQ 1172 3119 1398 2916 \nQ 1625 2713 2034 2713 \nQ 2441 2713 2670 2916 \nQ 2900 3119 2900 3481 \nQ 2900 3844 2670 4047 \nQ 2441 4250 2034 4250 \nQ 1625 4250 1398 4047 \nQ 1172 3844 1172 3481 \nz\n\" transform=\"scale(0.015625)\"/>\n       </defs>\n       <use xlink:href=\"#DejaVuSans-30\"/>\n       <use xlink:href=\"#DejaVuSans-2e\" x=\"63.623047\"/>\n       <use xlink:href=\"#DejaVuSans-38\" x=\"95.410156\"/>\n      </g>\n     </g>\n    </g>\n    <g id=\"ytick_6\">\n     <g id=\"line2d_29\">\n      <path d=\"M 38.404688 31.278437 \nL 429.004688 31.278437 \n\" clip-path=\"url(#p008e2690be)\" style=\"fill: none; stroke: #ffffff; stroke-width: 0.8; stroke-linecap: square\"/>\n     </g>\n     <g id=\"line2d_30\">\n      <g>\n       <use xlink:href=\"#m487958e421\" x=\"38.404688\" y=\"31.278437\" style=\"fill: #555555; stroke: #555555; stroke-width: 0.8\"/>\n      </g>\n     </g>\n     <g id=\"text_16\">\n      <!-- 1.0 -->\n      <g style=\"fill: #555555\" transform=\"translate(20.2725 33.937891) scale(0.07 -0.07)\">\n       <use xlink:href=\"#DejaVuSans-31\"/>\n       <use xlink:href=\"#DejaVuSans-2e\" x=\"63.623047\"/>\n       <use xlink:href=\"#DejaVuSans-30\" x=\"95.410156\"/>\n      </g>\n     </g>\n    </g>\n    <g id=\"text_17\">\n     <!-- Ângulo (Graus°) -->\n     <g style=\"fill: #555555\" transform=\"translate(14.60875 164.189063) rotate(-90) scale(0.08 -0.08)\">\n      <defs>\n       <path id=\"DejaVuSans-c2\" d=\"M 2188 4044 \nL 1331 1722 \nL 3047 1722 \nL 2188 4044 \nz\nM 1831 4666 \nL 2547 4666 \nL 4325 0 \nL 3669 0 \nL 3244 1197 \nL 1141 1197 \nL 716 0 \nL 50 0 \nL 1831 4666 \nz\nM 1890 5927 \nL 2478 5927 \nL 3137 5096 \nL 2703 5096 \nL 2184 5652 \nL 1665 5096 \nL 1231 5096 \nL 1890 5927 \nz\n\" transform=\"scale(0.015625)\"/>\n       <path id=\"DejaVuSans-6e\" d=\"M 3513 2113 \nL 3513 0 \nL 2938 0 \nL 2938 2094 \nQ 2938 2591 2744 2837 \nQ 2550 3084 2163 3084 \nQ 1697 3084 1428 2787 \nQ 1159 2491 1159 1978 \nL 1159 0 \nL 581 0 \nL 581 3500 \nL 1159 3500 \nL 1159 2956 \nQ 1366 3272 1645 3428 \nQ 1925 3584 2291 3584 \nQ 2894 3584 3203 3211 \nQ 3513 2838 3513 2113 \nz\n\" transform=\"scale(0.015625)\"/>\n       <path id=\"DejaVuSans-67\" d=\"M 2906 1791 \nQ 2906 2416 2648 2759 \nQ 2391 3103 1925 3103 \nQ 1463 3103 1205 2759 \nQ 947 2416 947 1791 \nQ 947 1169 1205 825 \nQ 1463 481 1925 481 \nQ 2391 481 2648 825 \nQ 2906 1169 2906 1791 \nz\nM 3481 434 \nQ 3481 -459 3084 -895 \nQ 2688 -1331 1869 -1331 \nQ 1566 -1331 1297 -1286 \nQ 1028 -1241 775 -1147 \nL 775 -588 \nQ 1028 -725 1275 -790 \nQ 1522 -856 1778 -856 \nQ 2344 -856 2625 -561 \nQ 2906 -266 2906 331 \nL 2906 616 \nQ 2728 306 2450 153 \nQ 2172 0 1784 0 \nQ 1141 0 747 490 \nQ 353 981 353 1791 \nQ 353 2603 747 3093 \nQ 1141 3584 1784 3584 \nQ 2172 3584 2450 3431 \nQ 2728 3278 2906 2969 \nL 2906 3500 \nL 3481 3500 \nL 3481 434 \nz\n\" transform=\"scale(0.015625)\"/>\n       <path id=\"DejaVuSans-75\" d=\"M 544 1381 \nL 544 3500 \nL 1119 3500 \nL 1119 1403 \nQ 1119 906 1312 657 \nQ 1506 409 1894 409 \nQ 2359 409 2629 706 \nQ 2900 1003 2900 1516 \nL 2900 3500 \nL 3475 3500 \nL 3475 0 \nL 2900 0 \nL 2900 538 \nQ 2691 219 2414 64 \nQ 2138 -91 1772 -91 \nQ 1169 -91 856 284 \nQ 544 659 544 1381 \nz\nM 1991 3584 \nL 1991 3584 \nz\n\" transform=\"scale(0.015625)\"/>\n       <path id=\"DejaVuSans-6c\" d=\"M 603 4863 \nL 1178 4863 \nL 1178 0 \nL 603 0 \nL 603 4863 \nz\n\" transform=\"scale(0.015625)\"/>\n       <path id=\"DejaVuSans-47\" d=\"M 3809 666 \nL 3809 1919 \nL 2778 1919 \nL 2778 2438 \nL 4434 2438 \nL 4434 434 \nQ 4069 175 3628 42 \nQ 3188 -91 2688 -91 \nQ 1594 -91 976 548 \nQ 359 1188 359 2328 \nQ 359 3472 976 4111 \nQ 1594 4750 2688 4750 \nQ 3144 4750 3555 4637 \nQ 3966 4525 4313 4306 \nL 4313 3634 \nQ 3963 3931 3569 4081 \nQ 3175 4231 2741 4231 \nQ 1884 4231 1454 3753 \nQ 1025 3275 1025 2328 \nQ 1025 1384 1454 906 \nQ 1884 428 2741 428 \nQ 3075 428 3337 486 \nQ 3600 544 3809 666 \nz\n\" transform=\"scale(0.015625)\"/>\n       <path id=\"DejaVuSans-72\" d=\"M 2631 2963 \nQ 2534 3019 2420 3045 \nQ 2306 3072 2169 3072 \nQ 1681 3072 1420 2755 \nQ 1159 2438 1159 1844 \nL 1159 0 \nL 581 0 \nL 581 3500 \nL 1159 3500 \nL 1159 2956 \nQ 1341 3275 1631 3429 \nQ 1922 3584 2338 3584 \nQ 2397 3584 2469 3576 \nQ 2541 3569 2628 3553 \nL 2631 2963 \nz\n\" transform=\"scale(0.015625)\"/>\n       <path id=\"DejaVuSans-61\" d=\"M 2194 1759 \nQ 1497 1759 1228 1600 \nQ 959 1441 959 1056 \nQ 959 750 1161 570 \nQ 1363 391 1709 391 \nQ 2188 391 2477 730 \nQ 2766 1069 2766 1631 \nL 2766 1759 \nL 2194 1759 \nz\nM 3341 1997 \nL 3341 0 \nL 2766 0 \nL 2766 531 \nQ 2569 213 2275 61 \nQ 1981 -91 1556 -91 \nQ 1019 -91 701 211 \nQ 384 513 384 1019 \nQ 384 1609 779 1909 \nQ 1175 2209 1959 2209 \nL 2766 2209 \nL 2766 2266 \nQ 2766 2663 2505 2880 \nQ 2244 3097 1772 3097 \nQ 1472 3097 1187 3025 \nQ 903 2953 641 2809 \nL 641 3341 \nQ 956 3463 1253 3523 \nQ 1550 3584 1831 3584 \nQ 2591 3584 2966 3190 \nQ 3341 2797 3341 1997 \nz\n\" transform=\"scale(0.015625)\"/>\n       <path id=\"DejaVuSans-b0\" d=\"M 1600 4347 \nQ 1350 4347 1178 4173 \nQ 1006 4000 1006 3750 \nQ 1006 3503 1178 3333 \nQ 1350 3163 1600 3163 \nQ 1850 3163 2022 3333 \nQ 2194 3503 2194 3750 \nQ 2194 3997 2020 4172 \nQ 1847 4347 1600 4347 \nz\nM 1600 4750 \nQ 1800 4750 1984 4673 \nQ 2169 4597 2303 4453 \nQ 2447 4313 2519 4134 \nQ 2591 3956 2591 3750 \nQ 2591 3338 2302 3052 \nQ 2013 2766 1594 2766 \nQ 1172 2766 890 3047 \nQ 609 3328 609 3750 \nQ 609 4169 896 4459 \nQ 1184 4750 1600 4750 \nz\n\" transform=\"scale(0.015625)\"/>\n      </defs>\n      <use xlink:href=\"#DejaVuSans-c2\"/>\n      <use xlink:href=\"#DejaVuSans-6e\" x=\"68.408203\"/>\n      <use xlink:href=\"#DejaVuSans-67\" x=\"131.787109\"/>\n      <use xlink:href=\"#DejaVuSans-75\" x=\"195.263672\"/>\n      <use xlink:href=\"#DejaVuSans-6c\" x=\"258.642578\"/>\n      <use xlink:href=\"#DejaVuSans-6f\" x=\"286.425781\"/>\n      <use xlink:href=\"#DejaVuSans-20\" x=\"347.607422\"/>\n      <use xlink:href=\"#DejaVuSans-28\" x=\"379.394531\"/>\n      <use xlink:href=\"#DejaVuSans-47\" x=\"418.408203\"/>\n      <use xlink:href=\"#DejaVuSans-72\" x=\"495.898438\"/>\n      <use xlink:href=\"#DejaVuSans-61\" x=\"537.011719\"/>\n      <use xlink:href=\"#DejaVuSans-75\" x=\"598.291016\"/>\n      <use xlink:href=\"#DejaVuSans-73\" x=\"661.669922\"/>\n      <use xlink:href=\"#DejaVuSans-b0\" x=\"713.769531\"/>\n      <use xlink:href=\"#DejaVuSans-29\" x=\"763.769531\"/>\n     </g>\n    </g>\n   </g>\n   <g id=\"line2d_31\">\n    <path d=\"M 56.159233 232.878438 \nL 56.159233 31.278437 \nL 411.250142 31.278437 \n\" clip-path=\"url(#p008e2690be)\" style=\"fill: none; stroke-dasharray: 3.7,1.6; stroke-dashoffset: 0; stroke: #e24a33\"/>\n   </g>\n   <g id=\"line2d_32\">\n    <path d=\"M 56.159233 232.878438 \nL 57.620512 231.150628 \nL 59.081792 226.200096 \nL 60.543071 218.505521 \nL 62.004351 208.685732 \nL 64.92691 185.571389 \nL 67.849469 162.832097 \nL 69.310748 153.305499 \nL 70.772028 145.713497 \nL 72.233307 140.410111 \nL 73.694586 137.590844 \nL 75.155866 137.289572 \nL 76.617145 139.385423 \nL 78.078425 143.618665 \nL 79.539704 149.614152 \nL 81.000984 156.910476 \nL 86.846102 188.715798 \nL 88.307381 194.892223 \nL 89.768661 199.610471 \nL 91.22994 202.664667 \nL 92.691219 203.961348 \nL 94.152499 203.518921 \nL 95.613778 201.460365 \nL 97.075058 197.999983 \nL 98.536337 193.425345 \nL 101.458896 182.318906 \nL 104.381455 171.052962 \nL 105.842735 166.212246 \nL 107.304014 162.263525 \nL 108.765294 159.397243 \nL 110.226573 157.727601 \nL 111.687852 157.289832 \nL 113.149132 158.042433 \nL 114.610411 159.87392 \nL 116.071691 162.613469 \nL 117.53297 166.044564 \nL 123.378088 181.650814 \nL 124.839368 184.814071 \nL 126.300647 187.297566 \nL 127.761927 188.988088 \nL 129.223206 189.826822 \nL 130.684485 189.809922 \nL 132.145765 188.985705 \nL 133.607044 187.448829 \nL 135.068324 185.331993 \nL 136.529603 182.795771 \nL 140.913442 174.455669 \nL 142.374721 172.007066 \nL 143.836001 169.966425 \nL 145.29728 168.435092 \nL 146.75856 167.477894 \nL 148.219839 167.121215 \nL 149.681118 167.353519 \nL 151.142398 168.128153 \nL 152.603677 169.36811 \nL 154.064957 170.97239 \nL 156.987516 174.795283 \nL 159.910075 178.602979 \nL 161.371354 180.21487 \nL 162.832634 181.511977 \nL 164.293913 182.432945 \nL 165.755193 182.942648 \nL 167.216472 183.032868 \nL 168.677751 182.721313 \nL 170.139031 182.049102 \nL 171.60031 181.076982 \nL 174.522869 178.544841 \nL 177.445428 175.808932 \nL 178.906708 174.575613 \nL 180.367987 173.527142 \nL 181.829267 172.71696 \nL 183.290546 172.181086 \nL 184.751826 171.936894 \nL 186.213105 171.983091 \nL 187.674384 172.300822 \nL 189.135664 172.855788 \nL 190.596943 173.601186 \nL 193.519502 175.435056 \nL 196.442061 177.31879 \nL 197.903341 178.136305 \nL 199.36462 178.809139 \nL 200.8259 179.304436 \nL 202.287179 179.601938 \nL 203.748459 179.694513 \nL 205.209738 179.587867 \nL 206.671017 179.299486 \nL 208.132297 178.856922 \nL 211.054856 177.656068 \nL 215.438694 175.696274 \nL 218.361253 174.735371 \nL 219.822533 174.440794 \nL 221.283812 174.287367 \nL 222.745092 174.276606 \nL 224.206371 174.401277 \nL 227.12893 174.990226 \nL 231.512768 176.338793 \nL 234.435327 177.207655 \nL 237.357886 177.818045 \nL 240.280445 178.055854 \nL 243.203004 177.905846 \nL 246.125563 177.444574 \nL 254.89324 175.681619 \nL 257.815799 175.430475 \nL 260.738358 175.45436 \nL 263.660916 175.718162 \nL 275.351152 177.208986 \nL 278.273711 177.251252 \nL 281.19627 177.113755 \nL 287.041388 176.528961 \nL 291.425226 176.122564 \nL 295.809065 175.965667 \nL 300.192903 176.096889 \nL 313.344418 176.863714 \nL 317.728257 176.810161 \nL 333.802331 176.241976 \nL 341.108728 176.439711 \nL 349.876405 176.674017 \nL 357.182802 176.597897 \nL 370.334317 176.371702 \nL 382.024553 176.538731 \nL 392.253509 176.56544 \nL 411.250142 176.45375 \nL 411.250142 176.45375 \n\" clip-path=\"url(#p008e2690be)\" style=\"fill: none; stroke: #348abd; stroke-linecap: square\"/>\n   </g>\n   <g id=\"patch_3\">\n    <path d=\"M 38.404688 242.958438 \nL 38.404688 21.198437 \n\" style=\"fill: none; stroke: #ffffff; stroke-linejoin: miter; stroke-linecap: square\"/>\n   </g>\n   <g id=\"patch_4\">\n    <path d=\"M 429.004688 242.958438 \nL 429.004688 21.198437 \n\" style=\"fill: none; stroke: #ffffff; stroke-linejoin: miter; stroke-linecap: square\"/>\n   </g>\n   <g id=\"patch_5\">\n    <path d=\"M 38.404688 242.958438 \nL 429.004688 242.958438 \n\" style=\"fill: none; stroke: #ffffff; stroke-linejoin: miter; stroke-linecap: square\"/>\n   </g>\n   <g id=\"patch_6\">\n    <path d=\"M 38.404688 21.198438 \nL 429.004688 21.198438 \n\" style=\"fill: none; stroke: #ffffff; stroke-linejoin: miter; stroke-linecap: square\"/>\n   </g>\n   <g id=\"text_18\">\n    <!-- Aeropêndulo em Malha Aberta -->\n    <g transform=\"translate(157.617188 15.198438) scale(0.1 -0.1)\">\n     <defs>\n      <path id=\"DejaVuSans-41\" d=\"M 2188 4044 \nL 1331 1722 \nL 3047 1722 \nL 2188 4044 \nz\nM 1831 4666 \nL 2547 4666 \nL 4325 0 \nL 3669 0 \nL 3244 1197 \nL 1141 1197 \nL 716 0 \nL 50 0 \nL 1831 4666 \nz\n\" transform=\"scale(0.015625)\"/>\n      <path id=\"DejaVuSans-ea\" d=\"M 3597 1894 \nL 3597 1613 \nL 953 1613 \nQ 991 1019 1311 708 \nQ 1631 397 2203 397 \nQ 2534 397 2845 478 \nQ 3156 559 3463 722 \nL 3463 178 \nQ 3153 47 2828 -22 \nQ 2503 -91 2169 -91 \nQ 1331 -91 842 396 \nQ 353 884 353 1716 \nQ 353 2575 817 3079 \nQ 1281 3584 2069 3584 \nQ 2775 3584 3186 3129 \nQ 3597 2675 3597 1894 \nz\nM 3022 2063 \nQ 3016 2534 2758 2815 \nQ 2500 3097 2075 3097 \nQ 1594 3097 1305 2825 \nQ 1016 2553 972 2059 \nL 3022 2063 \nz\nM 1801 5119 \nL 2263 5119 \nL 3029 3944 \nL 2595 3944 \nL 2032 4709 \nL 1470 3944 \nL 1035 3944 \nL 1801 5119 \nz\n\" transform=\"scale(0.015625)\"/>\n      <path id=\"DejaVuSans-64\" d=\"M 2906 2969 \nL 2906 4863 \nL 3481 4863 \nL 3481 0 \nL 2906 0 \nL 2906 525 \nQ 2725 213 2448 61 \nQ 2172 -91 1784 -91 \nQ 1150 -91 751 415 \nQ 353 922 353 1747 \nQ 353 2572 751 3078 \nQ 1150 3584 1784 3584 \nQ 2172 3584 2448 3432 \nQ 2725 3281 2906 2969 \nz\nM 947 1747 \nQ 947 1113 1208 752 \nQ 1469 391 1925 391 \nQ 2381 391 2643 752 \nQ 2906 1113 2906 1747 \nQ 2906 2381 2643 2742 \nQ 2381 3103 1925 3103 \nQ 1469 3103 1208 2742 \nQ 947 2381 947 1747 \nz\n\" transform=\"scale(0.015625)\"/>\n      <path id=\"DejaVuSans-4d\" d=\"M 628 4666 \nL 1569 4666 \nL 2759 1491 \nL 3956 4666 \nL 4897 4666 \nL 4897 0 \nL 4281 0 \nL 4281 4097 \nL 3078 897 \nL 2444 897 \nL 1241 4097 \nL 1241 0 \nL 628 0 \nL 628 4666 \nz\n\" transform=\"scale(0.015625)\"/>\n      <path id=\"DejaVuSans-68\" d=\"M 3513 2113 \nL 3513 0 \nL 2938 0 \nL 2938 2094 \nQ 2938 2591 2744 2837 \nQ 2550 3084 2163 3084 \nQ 1697 3084 1428 2787 \nQ 1159 2491 1159 1978 \nL 1159 0 \nL 581 0 \nL 581 4863 \nL 1159 4863 \nL 1159 2956 \nQ 1366 3272 1645 3428 \nQ 1925 3584 2291 3584 \nQ 2894 3584 3203 3211 \nQ 3513 2838 3513 2113 \nz\n\" transform=\"scale(0.015625)\"/>\n      <path id=\"DejaVuSans-62\" d=\"M 3116 1747 \nQ 3116 2381 2855 2742 \nQ 2594 3103 2138 3103 \nQ 1681 3103 1420 2742 \nQ 1159 2381 1159 1747 \nQ 1159 1113 1420 752 \nQ 1681 391 2138 391 \nQ 2594 391 2855 752 \nQ 3116 1113 3116 1747 \nz\nM 1159 2969 \nQ 1341 3281 1617 3432 \nQ 1894 3584 2278 3584 \nQ 2916 3584 3314 3078 \nQ 3713 2572 3713 1747 \nQ 3713 922 3314 415 \nQ 2916 -91 2278 -91 \nQ 1894 -91 1617 61 \nQ 1341 213 1159 525 \nL 1159 0 \nL 581 0 \nL 581 4863 \nL 1159 4863 \nL 1159 2969 \nz\n\" transform=\"scale(0.015625)\"/>\n      <path id=\"DejaVuSans-74\" d=\"M 1172 4494 \nL 1172 3500 \nL 2356 3500 \nL 2356 3053 \nL 1172 3053 \nL 1172 1153 \nQ 1172 725 1289 603 \nQ 1406 481 1766 481 \nL 2356 481 \nL 2356 0 \nL 1766 0 \nQ 1100 0 847 248 \nQ 594 497 594 1153 \nL 594 3053 \nL 172 3053 \nL 172 3500 \nL 594 3500 \nL 594 4494 \nL 1172 4494 \nz\n\" transform=\"scale(0.015625)\"/>\n     </defs>\n     <use xlink:href=\"#DejaVuSans-41\"/>\n     <use xlink:href=\"#DejaVuSans-65\" x=\"66.658203\"/>\n     <use xlink:href=\"#DejaVuSans-72\" x=\"128.181641\"/>\n     <use xlink:href=\"#DejaVuSans-6f\" x=\"167.044922\"/>\n     <use xlink:href=\"#DejaVuSans-70\" x=\"228.226562\"/>\n     <use xlink:href=\"#DejaVuSans-ea\" x=\"291.703125\"/>\n     <use xlink:href=\"#DejaVuSans-6e\" x=\"353.226562\"/>\n     <use xlink:href=\"#DejaVuSans-64\" x=\"416.605469\"/>\n     <use xlink:href=\"#DejaVuSans-75\" x=\"480.082031\"/>\n     <use xlink:href=\"#DejaVuSans-6c\" x=\"543.460938\"/>\n     <use xlink:href=\"#DejaVuSans-6f\" x=\"571.244141\"/>\n     <use xlink:href=\"#DejaVuSans-20\" x=\"632.425781\"/>\n     <use xlink:href=\"#DejaVuSans-65\" x=\"664.212891\"/>\n     <use xlink:href=\"#DejaVuSans-6d\" x=\"725.736328\"/>\n     <use xlink:href=\"#DejaVuSans-20\" x=\"823.148438\"/>\n     <use xlink:href=\"#DejaVuSans-4d\" x=\"854.935547\"/>\n     <use xlink:href=\"#DejaVuSans-61\" x=\"941.214844\"/>\n     <use xlink:href=\"#DejaVuSans-6c\" x=\"1002.494141\"/>\n     <use xlink:href=\"#DejaVuSans-68\" x=\"1030.277344\"/>\n     <use xlink:href=\"#DejaVuSans-61\" x=\"1093.65625\"/>\n     <use xlink:href=\"#DejaVuSans-20\" x=\"1154.935547\"/>\n     <use xlink:href=\"#DejaVuSans-41\" x=\"1186.722656\"/>\n     <use xlink:href=\"#DejaVuSans-62\" x=\"1255.130859\"/>\n     <use xlink:href=\"#DejaVuSans-65\" x=\"1318.607422\"/>\n     <use xlink:href=\"#DejaVuSans-72\" x=\"1380.130859\"/>\n     <use xlink:href=\"#DejaVuSans-74\" x=\"1421.244141\"/>\n     <use xlink:href=\"#DejaVuSans-61\" x=\"1460.453125\"/>\n    </g>\n   </g>\n   <g id=\"legend_1\">\n    <g id=\"patch_7\">\n     <path d=\"M 309.554062 239.458438 \nL 424.104688 239.458438 \nQ 425.504688 239.458438 425.504688 238.058438 \nL 425.504688 217.929063 \nQ 425.504688 216.529063 424.104688 216.529063 \nL 309.554062 216.529063 \nQ 308.154063 216.529063 308.154063 217.929063 \nL 308.154063 238.058438 \nQ 308.154063 239.458438 309.554062 239.458438 \nz\n\" style=\"fill: #e5e5e5; opacity: 0.8; stroke: #cccccc; stroke-width: 0.5; stroke-linejoin: miter\"/>\n    </g>\n    <g id=\"line2d_33\">\n     <path d=\"M 310.954063 222.477969 \nL 317.954063 222.477969 \nL 324.954063 222.477969 \n\" style=\"fill: none; stroke-dasharray: 3.7,1.6; stroke-dashoffset: 0; stroke: #e24a33\"/>\n    </g>\n    <g id=\"text_19\">\n     <!-- Sinal Degrau Unitário U(S) -->\n     <g transform=\"translate(330.554063 224.927969) scale(0.07 -0.07)\">\n      <defs>\n       <path id=\"DejaVuSans-53\" d=\"M 3425 4513 \nL 3425 3897 \nQ 3066 4069 2747 4153 \nQ 2428 4238 2131 4238 \nQ 1616 4238 1336 4038 \nQ 1056 3838 1056 3469 \nQ 1056 3159 1242 3001 \nQ 1428 2844 1947 2747 \nL 2328 2669 \nQ 3034 2534 3370 2195 \nQ 3706 1856 3706 1288 \nQ 3706 609 3251 259 \nQ 2797 -91 1919 -91 \nQ 1588 -91 1214 -16 \nQ 841 59 441 206 \nL 441 856 \nQ 825 641 1194 531 \nQ 1563 422 1919 422 \nQ 2459 422 2753 634 \nQ 3047 847 3047 1241 \nQ 3047 1584 2836 1778 \nQ 2625 1972 2144 2069 \nL 1759 2144 \nQ 1053 2284 737 2584 \nQ 422 2884 422 3419 \nQ 422 4038 858 4394 \nQ 1294 4750 2059 4750 \nQ 2388 4750 2728 4690 \nQ 3069 4631 3425 4513 \nz\n\" transform=\"scale(0.015625)\"/>\n       <path id=\"DejaVuSans-69\" d=\"M 603 3500 \nL 1178 3500 \nL 1178 0 \nL 603 0 \nL 603 3500 \nz\nM 603 4863 \nL 1178 4863 \nL 1178 4134 \nL 603 4134 \nL 603 4863 \nz\n\" transform=\"scale(0.015625)\"/>\n       <path id=\"DejaVuSans-44\" d=\"M 1259 4147 \nL 1259 519 \nL 2022 519 \nQ 2988 519 3436 956 \nQ 3884 1394 3884 2338 \nQ 3884 3275 3436 3711 \nQ 2988 4147 2022 4147 \nL 1259 4147 \nz\nM 628 4666 \nL 1925 4666 \nQ 3281 4666 3915 4102 \nQ 4550 3538 4550 2338 \nQ 4550 1131 3912 565 \nQ 3275 0 1925 0 \nL 628 0 \nL 628 4666 \nz\n\" transform=\"scale(0.015625)\"/>\n       <path id=\"DejaVuSans-55\" d=\"M 556 4666 \nL 1191 4666 \nL 1191 1831 \nQ 1191 1081 1462 751 \nQ 1734 422 2344 422 \nQ 2950 422 3222 751 \nQ 3494 1081 3494 1831 \nL 3494 4666 \nL 4128 4666 \nL 4128 1753 \nQ 4128 841 3676 375 \nQ 3225 -91 2344 -91 \nQ 1459 -91 1007 375 \nQ 556 841 556 1753 \nL 556 4666 \nz\n\" transform=\"scale(0.015625)\"/>\n       <path id=\"DejaVuSans-e1\" d=\"M 2194 1759 \nQ 1497 1759 1228 1600 \nQ 959 1441 959 1056 \nQ 959 750 1161 570 \nQ 1363 391 1709 391 \nQ 2188 391 2477 730 \nQ 2766 1069 2766 1631 \nL 2766 1759 \nL 2194 1759 \nz\nM 3341 1997 \nL 3341 0 \nL 2766 0 \nL 2766 531 \nQ 2569 213 2275 61 \nQ 1981 -91 1556 -91 \nQ 1019 -91 701 211 \nQ 384 513 384 1019 \nQ 384 1609 779 1909 \nQ 1175 2209 1959 2209 \nL 2766 2209 \nL 2766 2266 \nQ 2766 2663 2505 2880 \nQ 2244 3097 1772 3097 \nQ 1472 3097 1187 3025 \nQ 903 2953 641 2809 \nL 641 3341 \nQ 956 3463 1253 3523 \nQ 1550 3584 1831 3584 \nQ 2591 3584 2966 3190 \nQ 3341 2797 3341 1997 \nz\nM 2290 5119 \nL 2912 5119 \nL 1894 3944 \nL 1415 3944 \nL 2290 5119 \nz\n\" transform=\"scale(0.015625)\"/>\n      </defs>\n      <use xlink:href=\"#DejaVuSans-53\"/>\n      <use xlink:href=\"#DejaVuSans-69\" x=\"63.476562\"/>\n      <use xlink:href=\"#DejaVuSans-6e\" x=\"91.259766\"/>\n      <use xlink:href=\"#DejaVuSans-61\" x=\"154.638672\"/>\n      <use xlink:href=\"#DejaVuSans-6c\" x=\"215.917969\"/>\n      <use xlink:href=\"#DejaVuSans-20\" x=\"243.701172\"/>\n      <use xlink:href=\"#DejaVuSans-44\" x=\"275.488281\"/>\n      <use xlink:href=\"#DejaVuSans-65\" x=\"352.490234\"/>\n      <use xlink:href=\"#DejaVuSans-67\" x=\"414.013672\"/>\n      <use xlink:href=\"#DejaVuSans-72\" x=\"477.490234\"/>\n      <use xlink:href=\"#DejaVuSans-61\" x=\"518.603516\"/>\n      <use xlink:href=\"#DejaVuSans-75\" x=\"579.882812\"/>\n      <use xlink:href=\"#DejaVuSans-20\" x=\"643.261719\"/>\n      <use xlink:href=\"#DejaVuSans-55\" x=\"675.048828\"/>\n      <use xlink:href=\"#DejaVuSans-6e\" x=\"748.242188\"/>\n      <use xlink:href=\"#DejaVuSans-69\" x=\"811.621094\"/>\n      <use xlink:href=\"#DejaVuSans-74\" x=\"839.404297\"/>\n      <use xlink:href=\"#DejaVuSans-e1\" x=\"878.613281\"/>\n      <use xlink:href=\"#DejaVuSans-72\" x=\"939.892578\"/>\n      <use xlink:href=\"#DejaVuSans-69\" x=\"981.005859\"/>\n      <use xlink:href=\"#DejaVuSans-6f\" x=\"1008.789062\"/>\n      <use xlink:href=\"#DejaVuSans-20\" x=\"1069.970703\"/>\n      <use xlink:href=\"#DejaVuSans-55\" x=\"1101.757812\"/>\n      <use xlink:href=\"#DejaVuSans-28\" x=\"1174.951172\"/>\n      <use xlink:href=\"#DejaVuSans-53\" x=\"1213.964844\"/>\n      <use xlink:href=\"#DejaVuSans-29\" x=\"1277.441406\"/>\n     </g>\n    </g>\n    <g id=\"line2d_34\">\n     <path d=\"M 310.954063 232.752656 \nL 317.954063 232.752656 \nL 324.954063 232.752656 \n\" style=\"fill: none; stroke: #348abd; stroke-linecap: square\"/>\n    </g>\n    <g id=\"text_20\">\n     <!-- Sinal de Saída Y(S) -->\n     <g transform=\"translate(330.554063 235.202656) scale(0.07 -0.07)\">\n      <defs>\n       <path id=\"DejaVuSans-ed\" d=\"M 1322 5119 \nL 1944 5119 \nL 926 3944 \nL 447 3944 \nL 1322 5119 \nz\nM 603 3500 \nL 1178 3500 \nL 1178 0 \nL 603 0 \nL 603 3500 \nz\nM 891 3584 \nL 891 3584 \nz\n\" transform=\"scale(0.015625)\"/>\n       <path id=\"DejaVuSans-59\" d=\"M -13 4666 \nL 666 4666 \nL 1959 2747 \nL 3244 4666 \nL 3922 4666 \nL 2272 2222 \nL 2272 0 \nL 1638 0 \nL 1638 2222 \nL -13 4666 \nz\n\" transform=\"scale(0.015625)\"/>\n      </defs>\n      <use xlink:href=\"#DejaVuSans-53\"/>\n      <use xlink:href=\"#DejaVuSans-69\" x=\"63.476562\"/>\n      <use xlink:href=\"#DejaVuSans-6e\" x=\"91.259766\"/>\n      <use xlink:href=\"#DejaVuSans-61\" x=\"154.638672\"/>\n      <use xlink:href=\"#DejaVuSans-6c\" x=\"215.917969\"/>\n      <use xlink:href=\"#DejaVuSans-20\" x=\"243.701172\"/>\n      <use xlink:href=\"#DejaVuSans-64\" x=\"275.488281\"/>\n      <use xlink:href=\"#DejaVuSans-65\" x=\"338.964844\"/>\n      <use xlink:href=\"#DejaVuSans-20\" x=\"400.488281\"/>\n      <use xlink:href=\"#DejaVuSans-53\" x=\"432.275391\"/>\n      <use xlink:href=\"#DejaVuSans-61\" x=\"495.751953\"/>\n      <use xlink:href=\"#DejaVuSans-ed\" x=\"557.03125\"/>\n      <use xlink:href=\"#DejaVuSans-64\" x=\"584.814453\"/>\n      <use xlink:href=\"#DejaVuSans-61\" x=\"648.291016\"/>\n      <use xlink:href=\"#DejaVuSans-20\" x=\"709.570312\"/>\n      <use xlink:href=\"#DejaVuSans-59\" x=\"741.357422\"/>\n      <use xlink:href=\"#DejaVuSans-28\" x=\"802.441406\"/>\n      <use xlink:href=\"#DejaVuSans-53\" x=\"841.455078\"/>\n      <use xlink:href=\"#DejaVuSans-29\" x=\"904.931641\"/>\n     </g>\n    </g>\n   </g>\n  </g>\n </g>\n <defs>\n  <clipPath id=\"p008e2690be\">\n   <rect x=\"38.404688\" y=\"21.198438\" width=\"390.6\" height=\"221.76\"/>\n  </clipPath>\n </defs>\n</svg>\n",
      "text/plain": [
       "<Figure size 700x400 with 1 Axes>"
      ]
     },
     "metadata": {},
     "output_type": "display_data"
    }
   ],
   "source": [
    "t, yout = ct.step_response(Gs)\n",
    "\n",
    "plt.rc('xtick', labelsize=7)\n",
    "plt.rc('ytick', labelsize=7)\n",
    "\n",
    "fig, ax = plt.subplots(figsize=(7, 4))\n",
    "ax.set_title(\"Aeropêndulo em Malha Aberta\", fontsize=10)\n",
    "ax.set_ylabel(\"Ângulo (Graus°)\", fontsize=8)\n",
    "ax.set_xlabel(\"Tempo (s)\", fontsize=8)\n",
    "ax.plot([0, 0, t[-1]], [0, 1, 1], \"--\", lw=1,\n",
    "        label=\"Sinal Degrau Unitário U(S)\")\n",
    "ax.plot(t, yout, lw=1., label=\"Sinal de Saída Y(S)\")\n",
    "ax.legend(fontsize=7)\n",
    "plt.show()"
   ]
  }
 ],
 "metadata": {
  "kernelspec": {
   "display_name": "Python 3",
   "language": "python",
   "name": "python3"
  },
  "language_info": {
   "codemirror_mode": {
    "name": "ipython",
    "version": 3
   },
   "file_extension": ".py",
   "mimetype": "text/x-python",
   "name": "python",
   "nbconvert_exporter": "python",
   "pygments_lexer": "ipython3",
   "version": "3.10.8"
  },
  "orig_nbformat": 4
 },
 "nbformat": 4,
 "nbformat_minor": 2
}
