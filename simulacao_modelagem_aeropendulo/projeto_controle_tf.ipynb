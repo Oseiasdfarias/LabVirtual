{
 "cells": [
  {
   "attachments": {},
   "cell_type": "markdown",
   "metadata": {},
   "source": [
    "# Projeto de controle a partir espaço de estados"
   ]
  },
  {
   "attachments": {},
   "cell_type": "markdown",
   "metadata": {},
   "source": [
    "Obtendo a Função de Transferência a partir das matrizes de estados\n"
   ]
  },
  {
   "cell_type": "code",
   "execution_count": 3,
   "metadata": {},
   "outputs": [
    {
     "name": "stdout",
     "output_type": "stream",
     "text": [
      "<LinearIOSystem>: sys[5]\n",
      "Inputs (1): ['u[0]']\n",
      "Outputs (1): ['y[0]']\n",
      "States (2): ['x[0]', 'x[1]']\n",
      "\n",
      "A = [[ 0.          1.        ]\n",
      "     [-9.98490566 -0.71698113]]\n",
      "\n",
      "B = [[0.        ]\n",
      "     [2.79245283]]\n",
      "\n",
      "C = [[1. 0.]]\n",
      "\n",
      "D = [[0.]]\n",
      "\n"
     ]
    }
   ],
   "source": [
    "import numpy as np\n",
    "import matplotlib.pyplot as plt\n",
    "import control as ct\n",
    "\n",
    "plt.style.use(\"ggplot\")\n",
    "\n",
    "%config InlineBackend.figure_format = \"svg\"\n",
    "\n",
    "K_m = 0.0296\n",
    "m = 0.36\n",
    "d = 0.03\n",
    "J = 0.0106\n",
    "g = 9.8\n",
    "c = 0.0076\n",
    "\n",
    "A = np.array([[0, 1],\n",
    "              [-(m*g*d)/J, -(c/J)]])\n",
    "\n",
    "B = np.array([[0, K_m/J]]).T\n",
    "\n",
    "C = np.array([1, 0])\n",
    "\n",
    "D = 0\n",
    "\n",
    "sys = ct.ss(A, B, C, D)\n",
    "print(sys)"
   ]
  },
  {
   "attachments": {},
   "cell_type": "markdown",
   "metadata": {},
   "source": [
    "..."
   ]
  }
 ],
 "metadata": {
  "kernelspec": {
   "display_name": "Python 3",
   "language": "python",
   "name": "python3"
  },
  "language_info": {
   "codemirror_mode": {
    "name": "ipython",
    "version": 3
   },
   "file_extension": ".py",
   "mimetype": "text/x-python",
   "name": "python",
   "nbconvert_exporter": "python",
   "pygments_lexer": "ipython3",
   "version": "3.10.8"
  },
  "orig_nbformat": 4
 },
 "nbformat": 4,
 "nbformat_minor": 2
}
